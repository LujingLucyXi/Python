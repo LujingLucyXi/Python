{
  "nbformat": 4,
  "nbformat_minor": 0,
  "metadata": {
    "colab": {
      "name": "ANLY 535 90 Lab 2 - Simeng Sun.ipynb",
      "provenance": [],
      "collapsed_sections": [],
      "toc_visible": true
    },
    "kernelspec": {
      "name": "python3",
      "display_name": "Python 3"
    },
    "language_info": {
      "name": "python"
    },
    "accelerator": "GPU"
  },
  "cells": [
    {
      "cell_type": "markdown",
      "metadata": {
        "id": "3CL9GhOkzLfV"
      },
      "source": [
        "# **ANLY 535 90 - Laboratory #2 Tensorflow and CNN**\n"
      ]
    },
    {
      "cell_type": "markdown",
      "metadata": {
        "id": "qFirudUDGSsi"
      },
      "source": [
        "Simeng Sun, Saisanthosh Mamidala, Ryan Murtha, Shuyu Sui, Lujing Xi"
      ]
    },
    {
      "cell_type": "markdown",
      "metadata": {
        "id": "E81bKUHgzX9_"
      },
      "source": [
        "**Step1. GPU**"
      ]
    },
    {
      "cell_type": "code",
      "metadata": {
        "colab": {
          "base_uri": "https://localhost:8080/"
        },
        "id": "IPzjZKF0xkoh",
        "outputId": "7b78ac1e-13f4-492c-d76c-31138595f24e"
      },
      "source": [
        "from tensorflow.python.client import device_lib\n",
        "print(\"Show System RAM Memory:\\n\\n\")\n",
        "!cat /proc/meminfo |egrep \"MemTotal*\"\n",
        "print(\"\\n\\nShow Devices:\\n\\n\"+str(device_lib.list_local_devices()))"
      ],
      "execution_count": null,
      "outputs": [
        {
          "output_type": "stream",
          "text": [
            "Show System RAM Memory:\n",
            "\n",
            "\n",
            "MemTotal:       13333568 kB\n",
            "\n",
            "\n",
            "Show Devices:\n",
            "\n",
            "[name: \"/device:CPU:0\"\n",
            "device_type: \"CPU\"\n",
            "memory_limit: 268435456\n",
            "locality {\n",
            "}\n",
            "incarnation: 8468722545687898007\n",
            ", name: \"/device:GPU:0\"\n",
            "device_type: \"GPU\"\n",
            "memory_limit: 15703311680\n",
            "locality {\n",
            "  bus_id: 1\n",
            "  links {\n",
            "  }\n",
            "}\n",
            "incarnation: 3940192532324212301\n",
            "physical_device_desc: \"device: 0, name: Tesla P100-PCIE-16GB, pci bus id: 0000:00:04.0, compute capability: 6.0\"\n",
            "]\n"
          ],
          "name": "stdout"
        }
      ]
    },
    {
      "cell_type": "code",
      "metadata": {
        "colab": {
          "base_uri": "https://localhost:8080/",
          "height": 35
        },
        "id": "EcvzQIhM0MNn",
        "outputId": "76add762-bb8b-48c9-b552-f370d0d93c16"
      },
      "source": [
        "import tensorflow as tf \n",
        "tf.__version__"
      ],
      "execution_count": null,
      "outputs": [
        {
          "output_type": "execute_result",
          "data": {
            "application/vnd.google.colaboratory.intrinsic+json": {
              "type": "string"
            },
            "text/plain": [
              "'2.4.1'"
            ]
          },
          "metadata": {
            "tags": []
          },
          "execution_count": 3
        }
      ]
    },
    {
      "cell_type": "code",
      "metadata": {
        "colab": {
          "base_uri": "https://localhost:8080/"
        },
        "id": "pJNVYQgo0UJD",
        "outputId": "99fd8ac5-82e9-437d-eafe-d6cd3bb6daf1"
      },
      "source": [
        "from google.colab import drive\n",
        "drive.mount('/content/gdrive')"
      ],
      "execution_count": null,
      "outputs": [
        {
          "output_type": "stream",
          "text": [
            "Mounted at /content/gdrive\n"
          ],
          "name": "stdout"
        }
      ]
    },
    {
      "cell_type": "code",
      "metadata": {
        "colab": {
          "base_uri": "https://localhost:8080/"
        },
        "id": "7CQLtvVV0mud",
        "outputId": "5345aad4-ddca-4cdd-9480-765cdb5ab4bf"
      },
      "source": [
        "import time\n",
        "start =time.time()\n",
        "%run /content/gdrive/MyDrive/Machine_Learning/mnist_cnn.py\n",
        "end =time.time()\n",
        "print(end -start)"
      ],
      "execution_count": null,
      "outputs": [
        {
          "output_type": "stream",
          "text": [
            "Downloading data from https://storage.googleapis.com/tensorflow/tf-keras-datasets/mnist.npz\n",
            "11493376/11490434 [==============================] - 0s 0us/step\n",
            "x_train shape: (60000, 28, 28, 1)\n",
            "60000 train samples\n",
            "10000 test samples\n",
            "Epoch 1/12\n",
            "375/375 [==============================] - 33s 7ms/step - loss: 0.5397 - accuracy: 0.8271 - val_loss: 0.0621 - val_accuracy: 0.9827\n",
            "Epoch 2/12\n",
            "375/375 [==============================] - 2s 6ms/step - loss: 0.0999 - accuracy: 0.9690 - val_loss: 0.0492 - val_accuracy: 0.9852\n",
            "Epoch 3/12\n",
            "375/375 [==============================] - 2s 6ms/step - loss: 0.0749 - accuracy: 0.9774 - val_loss: 0.0436 - val_accuracy: 0.9875\n",
            "Epoch 4/12\n",
            "375/375 [==============================] - 2s 6ms/step - loss: 0.0520 - accuracy: 0.9825 - val_loss: 0.0434 - val_accuracy: 0.9883\n",
            "Epoch 5/12\n",
            "375/375 [==============================] - 2s 6ms/step - loss: 0.0474 - accuracy: 0.9847 - val_loss: 0.0412 - val_accuracy: 0.9882\n",
            "Epoch 6/12\n",
            "375/375 [==============================] - 2s 6ms/step - loss: 0.0404 - accuracy: 0.9869 - val_loss: 0.0391 - val_accuracy: 0.9887\n",
            "Epoch 7/12\n",
            "375/375 [==============================] - 2s 6ms/step - loss: 0.0369 - accuracy: 0.9883 - val_loss: 0.0370 - val_accuracy: 0.9896\n",
            "Epoch 8/12\n",
            "375/375 [==============================] - 2s 6ms/step - loss: 0.0321 - accuracy: 0.9892 - val_loss: 0.0385 - val_accuracy: 0.9898\n",
            "Epoch 9/12\n",
            "375/375 [==============================] - 2s 6ms/step - loss: 0.0302 - accuracy: 0.9897 - val_loss: 0.0364 - val_accuracy: 0.9897\n",
            "Epoch 10/12\n",
            "375/375 [==============================] - 2s 6ms/step - loss: 0.0220 - accuracy: 0.9928 - val_loss: 0.0420 - val_accuracy: 0.9901\n",
            "Epoch 11/12\n",
            "375/375 [==============================] - 2s 6ms/step - loss: 0.0257 - accuracy: 0.9915 - val_loss: 0.0426 - val_accuracy: 0.9897\n",
            "Epoch 12/12\n",
            "375/375 [==============================] - 2s 6ms/step - loss: 0.0245 - accuracy: 0.9917 - val_loss: 0.0392 - val_accuracy: 0.9907\n",
            "Test loss: 0.028980547562241554\n",
            "Test accuracy: 0.9912999868392944\n",
            "58.85229539871216\n"
          ],
          "name": "stdout"
        }
      ]
    },
    {
      "cell_type": "markdown",
      "metadata": {
        "id": "VCnpEedE7nLE"
      },
      "source": [
        "Q1-A Keras code is provided for running hand written recognition on both GPU and CPU. Run the code on colab and your own machine and compare the results.\n",
        "\n",
        "ANSWER: It only took 58.85 seconds to run the entire code on colab whereas the jupyter notebook on my computer spent 6min 36s completing the code."
      ]
    },
    {
      "cell_type": "markdown",
      "metadata": {
        "id": "jK2_SR9G8Uw4"
      },
      "source": [
        "**Step2. Implement handwritten recognitionin Tensorflow using CNN**"
      ]
    },
    {
      "cell_type": "code",
      "metadata": {
        "id": "APBDrZWV0m7T"
      },
      "source": [
        "from tensorflow.keras.datasets import mnist\n",
        "from tensorflow.keras.models import Sequential\n",
        "from tensorflow.keras.layers import Dense, Dropout, Flatten\n",
        "from tensorflow.keras.layers import Conv2D, MaxPooling2D\n",
        "from tensorflow.keras import backend as K"
      ],
      "execution_count": null,
      "outputs": []
    },
    {
      "cell_type": "code",
      "metadata": {
        "colab": {
          "base_uri": "https://localhost:8080/"
        },
        "id": "bgCVRXu10nIZ",
        "outputId": "16f40c6c-30fb-4132-cd6b-ccf9d7b63563"
      },
      "source": [
        "batch_size = 128\n",
        "num_classes = 10\n",
        "epochs = 12\n",
        "# input image dimensions\n",
        "img_rows, img_cols = 28, 28\n",
        "# the data, split between train and test sets\n",
        "(x_train, y_train), (x_test, y_test) = mnist.load_data()\n",
        "\n",
        "if K.image_data_format() == 'channels_first':\n",
        "    x_train = x_train.reshape(x_train.shape[0], 1, img_rows, img_cols)\n",
        "    x_test = x_test.reshape(x_test.shape[0], 1, img_rows, img_cols)\n",
        "    input_shape = (1, img_rows, img_cols)\n",
        "else:\n",
        "    x_train = x_train.reshape(x_train.shape[0], img_rows, img_cols, 1)\n",
        "    x_test = x_test.reshape(x_test.shape[0], img_rows, img_cols, 1)\n",
        "    input_shape = (img_rows, img_cols, 1)\n",
        "\n",
        "x_train = x_train.astype('float32')\n",
        "x_test = x_test.astype('float32')\n",
        "x_train /= 255\n",
        "x_test /= 255\n",
        "print('x_train shape:', x_train.shape)\n",
        "print(x_train.shape[0], 'train samples')\n",
        "print(x_test.shape[0], 'test samples')\n",
        "\n",
        "# convert class vectors to binary class matrices\n",
        "y_train = keras.utils.to_categorical(y_train, num_classes)\n",
        "y_test = keras.utils.to_categorical(y_test, num_classes)\n",
        "\n",
        "model = Sequential()\n",
        "model.add(Conv2D(32, kernel_size=(3, 3),activation='relu', input_shape=input_shape))\n",
        "model.add(Conv2D(64, (3, 3), activation='relu'))\n",
        "model.add(MaxPooling2D(pool_size=(2, 2)))\n",
        "model.add(Dropout(0.25))\n",
        "model.add(Flatten())\n",
        "model.add(Dense(128, activation='relu'))\n",
        "model.add(Dropout(0.5))\n",
        "model.add(Dense(num_classes, activation='softmax'))"
      ],
      "execution_count": null,
      "outputs": [
        {
          "output_type": "stream",
          "text": [
            "x_train shape: (60000, 28, 28, 1)\n",
            "60000 train samples\n",
            "10000 test samples\n"
          ],
          "name": "stdout"
        }
      ]
    },
    {
      "cell_type": "markdown",
      "metadata": {
        "id": "AdTwu1Ft-h6A"
      },
      "source": [
        "Q2-Explain the way that this model is designed. Talk about all the layers and their functionality.\n",
        "\n",
        "---\n",
        "ANSWER: The model is a convolutional neural network model which consists of multiple layers including input layer, convolutional layer, ReLU layer, pooling layer and fully-connected layer. The first two layers of this model are convolutional layers. In the convolutinal layers, we define the number of filters to apply as well as the activation method which in the case is \"ReLU\". In the first convolutional layer, we also need to define the input shape. And in the second convolutional layer, we apply 64 filters with an activation method of ReLU. The third layer of the model is MaxPooling layer which helps downsample the output. And then we have a flatten layer (can also be referred as fully-connected layer) and this layer is the end of feature extraction and the beginning of the neural network. After that, we have another hidden layer for the neural network. Between the MaxPooling layer and the flatten layer, we also have a dropout layer. Another dropout layer is applied between the last hidden layer and the output layer. In the alst output layer, we apply an activation method of \"softmax\".\n"
      ]
    },
    {
      "cell_type": "code",
      "metadata": {
        "colab": {
          "base_uri": "https://localhost:8080/"
        },
        "id": "K6GuDP5H0nQn",
        "outputId": "41ce3df7-866e-4d98-8e39-8a84dfb73948"
      },
      "source": [
        "# evaluate the model\n",
        "model.compile(loss='categorical_crossentropy',\n",
        "              optimizer='adam',\n",
        "              metrics=['accuracy'])\n",
        "\n",
        "hist = model.fit(x_train, y_train,\n",
        "          batch_size=batch_size,\n",
        "          epochs=epochs,\n",
        "          verbose=1,\n",
        "          validation_split=0.2)\n",
        "\n",
        "score = model.evaluate(x_test, y_test, verbose=0)\n",
        "print('Test loss:', score[0])\n",
        "print('Test accuracy:', score[1])"
      ],
      "execution_count": null,
      "outputs": [
        {
          "output_type": "stream",
          "text": [
            "Epoch 1/12\n",
            "375/375 [==============================] - 3s 6ms/step - loss: 0.0219 - accuracy: 0.9930 - val_loss: 0.0385 - val_accuracy: 0.9913\n",
            "Epoch 2/12\n",
            "375/375 [==============================] - 2s 6ms/step - loss: 0.0184 - accuracy: 0.9940 - val_loss: 0.0388 - val_accuracy: 0.9909\n",
            "Epoch 3/12\n",
            "375/375 [==============================] - 2s 6ms/step - loss: 0.0175 - accuracy: 0.9945 - val_loss: 0.0371 - val_accuracy: 0.9907\n",
            "Epoch 4/12\n",
            "375/375 [==============================] - 2s 6ms/step - loss: 0.0159 - accuracy: 0.9948 - val_loss: 0.0403 - val_accuracy: 0.9906\n",
            "Epoch 5/12\n",
            "375/375 [==============================] - 2s 6ms/step - loss: 0.0147 - accuracy: 0.9948 - val_loss: 0.0410 - val_accuracy: 0.9911\n",
            "Epoch 6/12\n",
            "375/375 [==============================] - 2s 6ms/step - loss: 0.0153 - accuracy: 0.9946 - val_loss: 0.0456 - val_accuracy: 0.9902\n",
            "Epoch 7/12\n",
            "375/375 [==============================] - 2s 6ms/step - loss: 0.0128 - accuracy: 0.9951 - val_loss: 0.0447 - val_accuracy: 0.9913\n",
            "Epoch 8/12\n",
            "375/375 [==============================] - 2s 6ms/step - loss: 0.0136 - accuracy: 0.9955 - val_loss: 0.0365 - val_accuracy: 0.9923\n",
            "Epoch 9/12\n",
            "375/375 [==============================] - 2s 6ms/step - loss: 0.0141 - accuracy: 0.9955 - val_loss: 0.0483 - val_accuracy: 0.9893\n",
            "Epoch 10/12\n",
            "375/375 [==============================] - 2s 6ms/step - loss: 0.0156 - accuracy: 0.9949 - val_loss: 0.0392 - val_accuracy: 0.9911\n",
            "Epoch 11/12\n",
            "375/375 [==============================] - 2s 6ms/step - loss: 0.0110 - accuracy: 0.9962 - val_loss: 0.0479 - val_accuracy: 0.9909\n",
            "Epoch 12/12\n",
            "375/375 [==============================] - 2s 6ms/step - loss: 0.0114 - accuracy: 0.9961 - val_loss: 0.0445 - val_accuracy: 0.9912\n",
            "Test loss: 0.03538454696536064\n",
            "Test accuracy: 0.9909999966621399\n"
          ],
          "name": "stdout"
        }
      ]
    },
    {
      "cell_type": "markdown",
      "metadata": {
        "id": "2bgTB1ve-6vy"
      },
      "source": [
        "Q3-Design the learning curve and talk about what you see.\n",
        "\n",
        "ANSWER: As we see from the result, we have over 99% of accuracy which is great number but seems to be too good for a model. Therefore, we wanted to draw a learning curve and see the trend for both the training data and the test data. It appears that the trend of the test dataset is different from the trend of the training dataset when running the epochs. This indicates that there is still room to improve our model. "
      ]
    },
    {
      "cell_type": "code",
      "metadata": {
        "id": "tfaVkoe_B5MD"
      },
      "source": [
        "import matplotlib.pyplot as plt\n",
        "import numpy as np\n",
        "import pandas as pd"
      ],
      "execution_count": null,
      "outputs": []
    },
    {
      "cell_type": "code",
      "metadata": {
        "colab": {
          "base_uri": "https://localhost:8080/",
          "height": 626
        },
        "id": "qdAB-KTo0nX0",
        "outputId": "f0c3e1c1-06f0-447f-91e0-7283695e707a"
      },
      "source": [
        "fig = plt.figure(figsize=(15, 10))\n",
        "plt.subplot(2,1,1)\n",
        "\n",
        "plt.plot(hist.history['accuracy'])\n",
        "plt.plot(hist.history['val_accuracy'])\n",
        "plt.title('model accuracy', fontsize=15, fontweight='bold')\n",
        "plt.ylabel('accuracy', fontsize=12, fontweight='bold')\n",
        "plt.xlabel('epoch', fontsize=12, fontweight='bold')\n",
        "plt.legend(['train', 'test'], loc='lower right')\n",
        "plt.subplot(2,1,2)\n",
        "plt.plot(hist.history['loss'])\n",
        "plt.plot(hist.history['val_loss'])\n",
        "plt.title('model loss', fontsize=15, fontweight='bold')\n",
        "plt.ylabel('loss', fontsize=12, fontweight='bold')\n",
        "plt.xlabel('epoch', fontsize=12, fontweight='bold')\n",
        "plt.legend(['train', 'test'], loc='upper right')\n",
        "plt.show()"
      ],
      "execution_count": null,
      "outputs": [
        {
          "output_type": "display_data",
          "data": {
            "image/png": "[encoded data removed]",
            "text/plain": [
              "<Figure size 1080x720 with 2 Axes>"
            ]
          },
          "metadata": {
            "tags": [],
            "needs_background": "light"
          }
        }
      ]
    },
    {
      "cell_type": "markdown",
      "metadata": {
        "id": "jJEgFUOxjkZH"
      },
      "source": [
        "**Step3. Text mining using CNN**"
      ]
    },
    {
      "cell_type": "code",
      "metadata": {
        "id": "QelM8s_m0ngX"
      },
      "source": [
        "df=pd.read_csv('/content/gdrive/MyDrive/Machine_Learning/amazon_cells_labelled.txt',names=['sentence','label'],sep='\\t')"
      ],
      "execution_count": null,
      "outputs": []
    },
    {
      "cell_type": "markdown",
      "metadata": {
        "id": "e964BjYbvee2"
      },
      "source": [
        "*3.1 Pre-processing*"
      ]
    },
    {
      "cell_type": "code",
      "metadata": {
        "colab": {
          "base_uri": "https://localhost:8080/"
        },
        "id": "JLObjejxkL8c",
        "outputId": "239565cf-6da5-4f29-ea95-4936e0f9db21"
      },
      "source": [
        "print(df.iloc[0])"
      ],
      "execution_count": null,
      "outputs": [
        {
          "output_type": "stream",
          "text": [
            "sentence    So there is no way for me to plug it in here i...\n",
            "label                                                       0\n",
            "Name: 0, dtype: object\n"
          ],
          "name": "stdout"
        }
      ]
    },
    {
      "cell_type": "code",
      "metadata": {
        "colab": {
          "base_uri": "https://localhost:8080/"
        },
        "id": "ceHQRLshkMEO",
        "outputId": "e0f7e672-5a88-4833-c786-f8d929de5525"
      },
      "source": [
        "print(df.head())"
      ],
      "execution_count": null,
      "outputs": [
        {
          "output_type": "stream",
          "text": [
            "                                            sentence  label\n",
            "0  So there is no way for me to plug it in here i...      0\n",
            "1                        Good case, Excellent value.      1\n",
            "2                             Great for the jawbone.      1\n",
            "3  Tied to charger for conversations lasting more...      0\n",
            "4                                  The mic is great.      1\n"
          ],
          "name": "stdout"
        }
      ]
    },
    {
      "cell_type": "code",
      "metadata": {
        "id": "ZE_FS_zqkMLr"
      },
      "source": [
        "from sklearn.model_selection import train_test_split\n",
        "from sklearn.feature_extraction.text import CountVectorizer\n",
        "from sklearn.linear_model import LogisticRegression\n",
        "from tensorflow.keras.models import Sequential\n",
        "from tensorflow.keras import layers\n",
        "from keras.preprocessing.text import Tokenizer\n",
        "from keras.preprocessing.sequence import pad_sequences"
      ],
      "execution_count": null,
      "outputs": []
    },
    {
      "cell_type": "code",
      "metadata": {
        "id": "DwU10MAlkMO9"
      },
      "source": [
        "sentences =df['sentence'].values\n",
        "y =df['label'].values\n",
        "sentences_train,sentences_test,y_train,y_test =train_test_split(sentences,y,test_size=0.25,random_state=1000)"
      ],
      "execution_count": null,
      "outputs": []
    },
    {
      "cell_type": "code",
      "metadata": {
        "colab": {
          "base_uri": "https://localhost:8080/"
        },
        "id": "WlFoQufbkMRp",
        "outputId": "66ef3b84-4917-4e43-8d74-bb5252bdad2a"
      },
      "source": [
        "vectorizer =CountVectorizer()\n",
        "vectorizer.fit(sentences_train)\n",
        "X_train =vectorizer.transform(sentences_train)\n",
        "X_test  =vectorizer.transform(sentences_test)\n",
        "X_train"
      ],
      "execution_count": null,
      "outputs": [
        {
          "output_type": "execute_result",
          "data": {
            "text/plain": [
              "<750x1546 sparse matrix of type '<class 'numpy.int64'>'\n",
              "\twith 6817 stored elements in Compressed Sparse Row format>"
            ]
          },
          "metadata": {
            "tags": []
          },
          "execution_count": 20
        }
      ]
    },
    {
      "cell_type": "code",
      "metadata": {
        "colab": {
          "base_uri": "https://localhost:8080/"
        },
        "id": "1fshNndskMW3",
        "outputId": "2b97621c-5e73-405f-d389-5740d8b0b735"
      },
      "source": [
        "classifier =LogisticRegression()\n",
        "classifier.fit(X_train,y_train)\n",
        "score =classifier.score(X_test,y_test)\n",
        "print(\"Accuracy:\",score)"
      ],
      "execution_count": null,
      "outputs": [
        {
          "output_type": "stream",
          "text": [
            "Accuracy: 0.796\n"
          ],
          "name": "stdout"
        }
      ]
    },
    {
      "cell_type": "code",
      "metadata": {
        "id": "URXIBG8goRbJ"
      },
      "source": [
        "X_train =vectorizer.transform(sentences_train).toarray()\n",
        "X_test =vectorizer.transform(sentences_test).toarray()"
      ],
      "execution_count": null,
      "outputs": []
    },
    {
      "cell_type": "code",
      "metadata": {
        "colab": {
          "base_uri": "https://localhost:8080/"
        },
        "id": "ZMiEU701oRlu",
        "outputId": "f9a03d39-72f2-4ad8-e9d7-5de09e00cb30"
      },
      "source": [
        "input_dim =X_train.shape[1]# Number of features\n",
        "\n",
        "model =Sequential()\n",
        "model.add(layers.Dense(10,input_dim=input_dim,activation='relu'))\n",
        "model.add(layers.Dense(1,activation='sigmoid'))\n",
        "\n",
        "model.compile(loss='binary_crossentropy',optimizer='adam',metrics=['accuracy'])\n",
        "\n",
        "hist =model.fit(X_train,y_train,epochs=100,validation_split=0.2 ,batch_size=10)\n",
        "loss, accuracy =model.evaluate(X_test,y_test,verbose=False)\n",
        "\n",
        "print(\"TestAccuracy: \",accuracy*100)"
      ],
      "execution_count": null,
      "outputs": [
        {
          "output_type": "stream",
          "text": [
            "Epoch 1/100\n",
            "60/60 [==============================] - 1s 4ms/step - loss: 0.6944 - accuracy: 0.4735 - val_loss: 0.6786 - val_accuracy: 0.6133\n",
            "Epoch 2/100\n",
            "60/60 [==============================] - 0s 2ms/step - loss: 0.6459 - accuracy: 0.7613 - val_loss: 0.6452 - val_accuracy: 0.7400\n",
            "Epoch 3/100\n",
            "60/60 [==============================] - 0s 2ms/step - loss: 0.5770 - accuracy: 0.8775 - val_loss: 0.5964 - val_accuracy: 0.8133\n",
            "Epoch 4/100\n",
            "60/60 [==============================] - 0s 2ms/step - loss: 0.4755 - accuracy: 0.9235 - val_loss: 0.5482 - val_accuracy: 0.8333\n",
            "Epoch 5/100\n",
            "60/60 [==============================] - 0s 2ms/step - loss: 0.3885 - accuracy: 0.9572 - val_loss: 0.5098 - val_accuracy: 0.7867\n",
            "Epoch 6/100\n",
            "60/60 [==============================] - 0s 2ms/step - loss: 0.2933 - accuracy: 0.9857 - val_loss: 0.4720 - val_accuracy: 0.8200\n",
            "Epoch 7/100\n",
            "60/60 [==============================] - 0s 2ms/step - loss: 0.2404 - accuracy: 0.9880 - val_loss: 0.4517 - val_accuracy: 0.8200\n",
            "Epoch 8/100\n",
            "60/60 [==============================] - 0s 2ms/step - loss: 0.1957 - accuracy: 0.9919 - val_loss: 0.4295 - val_accuracy: 0.8133\n",
            "Epoch 9/100\n",
            "60/60 [==============================] - 0s 2ms/step - loss: 0.1618 - accuracy: 0.9850 - val_loss: 0.4168 - val_accuracy: 0.8067\n",
            "Epoch 10/100\n",
            "60/60 [==============================] - 0s 3ms/step - loss: 0.1312 - accuracy: 0.9982 - val_loss: 0.4040 - val_accuracy: 0.8333\n",
            "Epoch 11/100\n",
            "60/60 [==============================] - 0s 2ms/step - loss: 0.1070 - accuracy: 1.0000 - val_loss: 0.3987 - val_accuracy: 0.8200\n",
            "Epoch 12/100\n",
            "60/60 [==============================] - 0s 2ms/step - loss: 0.0942 - accuracy: 1.0000 - val_loss: 0.3927 - val_accuracy: 0.8333\n",
            "Epoch 13/100\n",
            "60/60 [==============================] - 0s 2ms/step - loss: 0.0823 - accuracy: 1.0000 - val_loss: 0.3911 - val_accuracy: 0.8267\n",
            "Epoch 14/100\n",
            "60/60 [==============================] - 0s 2ms/step - loss: 0.0650 - accuracy: 1.0000 - val_loss: 0.3889 - val_accuracy: 0.8400\n",
            "Epoch 15/100\n",
            "60/60 [==============================] - 0s 2ms/step - loss: 0.0600 - accuracy: 1.0000 - val_loss: 0.3858 - val_accuracy: 0.8267\n",
            "Epoch 16/100\n",
            "60/60 [==============================] - 0s 2ms/step - loss: 0.0549 - accuracy: 1.0000 - val_loss: 0.3852 - val_accuracy: 0.8267\n",
            "Epoch 17/100\n",
            "60/60 [==============================] - 0s 2ms/step - loss: 0.0435 - accuracy: 1.0000 - val_loss: 0.3845 - val_accuracy: 0.8267\n",
            "Epoch 18/100\n",
            "60/60 [==============================] - 0s 2ms/step - loss: 0.0403 - accuracy: 1.0000 - val_loss: 0.3846 - val_accuracy: 0.8333\n",
            "Epoch 19/100\n",
            "60/60 [==============================] - 0s 2ms/step - loss: 0.0397 - accuracy: 1.0000 - val_loss: 0.3863 - val_accuracy: 0.8333\n",
            "Epoch 20/100\n",
            "60/60 [==============================] - 0s 3ms/step - loss: 0.0299 - accuracy: 1.0000 - val_loss: 0.3875 - val_accuracy: 0.8400\n",
            "Epoch 21/100\n",
            "60/60 [==============================] - 0s 2ms/step - loss: 0.0250 - accuracy: 1.0000 - val_loss: 0.3887 - val_accuracy: 0.8267\n",
            "Epoch 22/100\n",
            "60/60 [==============================] - 0s 2ms/step - loss: 0.0260 - accuracy: 1.0000 - val_loss: 0.3891 - val_accuracy: 0.8467\n",
            "Epoch 23/100\n",
            "60/60 [==============================] - 0s 2ms/step - loss: 0.0237 - accuracy: 1.0000 - val_loss: 0.3914 - val_accuracy: 0.8400\n",
            "Epoch 24/100\n",
            "60/60 [==============================] - 0s 2ms/step - loss: 0.0228 - accuracy: 1.0000 - val_loss: 0.3931 - val_accuracy: 0.8400\n",
            "Epoch 25/100\n",
            "60/60 [==============================] - 0s 2ms/step - loss: 0.0177 - accuracy: 1.0000 - val_loss: 0.3956 - val_accuracy: 0.8467\n",
            "Epoch 26/100\n",
            "60/60 [==============================] - 0s 2ms/step - loss: 0.0192 - accuracy: 1.0000 - val_loss: 0.3975 - val_accuracy: 0.8533\n",
            "Epoch 27/100\n",
            "60/60 [==============================] - 0s 2ms/step - loss: 0.0167 - accuracy: 1.0000 - val_loss: 0.3984 - val_accuracy: 0.8533\n",
            "Epoch 28/100\n",
            "60/60 [==============================] - 0s 2ms/step - loss: 0.0130 - accuracy: 1.0000 - val_loss: 0.4012 - val_accuracy: 0.8467\n",
            "Epoch 29/100\n",
            "60/60 [==============================] - 0s 2ms/step - loss: 0.0116 - accuracy: 1.0000 - val_loss: 0.4025 - val_accuracy: 0.8467\n",
            "Epoch 30/100\n",
            "60/60 [==============================] - 0s 2ms/step - loss: 0.0118 - accuracy: 1.0000 - val_loss: 0.4048 - val_accuracy: 0.8467\n",
            "Epoch 31/100\n",
            "60/60 [==============================] - 0s 2ms/step - loss: 0.0110 - accuracy: 1.0000 - val_loss: 0.4070 - val_accuracy: 0.8467\n",
            "Epoch 32/100\n",
            "60/60 [==============================] - 0s 2ms/step - loss: 0.0102 - accuracy: 1.0000 - val_loss: 0.4080 - val_accuracy: 0.8467\n",
            "Epoch 33/100\n",
            "60/60 [==============================] - 0s 2ms/step - loss: 0.0091 - accuracy: 1.0000 - val_loss: 0.4112 - val_accuracy: 0.8533\n",
            "Epoch 34/100\n",
            "60/60 [==============================] - 0s 2ms/step - loss: 0.0096 - accuracy: 1.0000 - val_loss: 0.4138 - val_accuracy: 0.8533\n",
            "Epoch 35/100\n",
            "60/60 [==============================] - 0s 2ms/step - loss: 0.0087 - accuracy: 1.0000 - val_loss: 0.4156 - val_accuracy: 0.8533\n",
            "Epoch 36/100\n",
            "60/60 [==============================] - 0s 2ms/step - loss: 0.0082 - accuracy: 1.0000 - val_loss: 0.4174 - val_accuracy: 0.8533\n",
            "Epoch 37/100\n",
            "60/60 [==============================] - 0s 2ms/step - loss: 0.0073 - accuracy: 1.0000 - val_loss: 0.4200 - val_accuracy: 0.8533\n",
            "Epoch 38/100\n",
            "60/60 [==============================] - 0s 2ms/step - loss: 0.0069 - accuracy: 1.0000 - val_loss: 0.4231 - val_accuracy: 0.8533\n",
            "Epoch 39/100\n",
            "60/60 [==============================] - 0s 2ms/step - loss: 0.0062 - accuracy: 1.0000 - val_loss: 0.4247 - val_accuracy: 0.8533\n",
            "Epoch 40/100\n",
            "60/60 [==============================] - 0s 3ms/step - loss: 0.0065 - accuracy: 1.0000 - val_loss: 0.4278 - val_accuracy: 0.8533\n",
            "Epoch 41/100\n",
            "60/60 [==============================] - 0s 2ms/step - loss: 0.0049 - accuracy: 1.0000 - val_loss: 0.4291 - val_accuracy: 0.8533\n",
            "Epoch 42/100\n",
            "60/60 [==============================] - 0s 2ms/step - loss: 0.0053 - accuracy: 1.0000 - val_loss: 0.4319 - val_accuracy: 0.8533\n",
            "Epoch 43/100\n",
            "60/60 [==============================] - 0s 2ms/step - loss: 0.0044 - accuracy: 1.0000 - val_loss: 0.4337 - val_accuracy: 0.8533\n",
            "Epoch 44/100\n",
            "60/60 [==============================] - 0s 3ms/step - loss: 0.0051 - accuracy: 1.0000 - val_loss: 0.4365 - val_accuracy: 0.8533\n",
            "Epoch 45/100\n",
            "60/60 [==============================] - 0s 2ms/step - loss: 0.0042 - accuracy: 1.0000 - val_loss: 0.4384 - val_accuracy: 0.8533\n",
            "Epoch 46/100\n",
            "60/60 [==============================] - 0s 2ms/step - loss: 0.0043 - accuracy: 1.0000 - val_loss: 0.4409 - val_accuracy: 0.8533\n",
            "Epoch 47/100\n",
            "60/60 [==============================] - 0s 3ms/step - loss: 0.0036 - accuracy: 1.0000 - val_loss: 0.4421 - val_accuracy: 0.8533\n",
            "Epoch 48/100\n",
            "60/60 [==============================] - 0s 3ms/step - loss: 0.0040 - accuracy: 1.0000 - val_loss: 0.4456 - val_accuracy: 0.8533\n",
            "Epoch 49/100\n",
            "60/60 [==============================] - 0s 3ms/step - loss: 0.0033 - accuracy: 1.0000 - val_loss: 0.4473 - val_accuracy: 0.8533\n",
            "Epoch 50/100\n",
            "60/60 [==============================] - 0s 2ms/step - loss: 0.0030 - accuracy: 1.0000 - val_loss: 0.4494 - val_accuracy: 0.8533\n",
            "Epoch 51/100\n",
            "60/60 [==============================] - 0s 2ms/step - loss: 0.0032 - accuracy: 1.0000 - val_loss: 0.4518 - val_accuracy: 0.8533\n",
            "Epoch 52/100\n",
            "60/60 [==============================] - 0s 2ms/step - loss: 0.0027 - accuracy: 1.0000 - val_loss: 0.4537 - val_accuracy: 0.8533\n",
            "Epoch 53/100\n",
            "60/60 [==============================] - 0s 2ms/step - loss: 0.0026 - accuracy: 1.0000 - val_loss: 0.4557 - val_accuracy: 0.8600\n",
            "Epoch 54/100\n",
            "60/60 [==============================] - 0s 2ms/step - loss: 0.0027 - accuracy: 1.0000 - val_loss: 0.4572 - val_accuracy: 0.8600\n",
            "Epoch 55/100\n",
            "60/60 [==============================] - 0s 2ms/step - loss: 0.0025 - accuracy: 1.0000 - val_loss: 0.4598 - val_accuracy: 0.8600\n",
            "Epoch 56/100\n",
            "60/60 [==============================] - 0s 3ms/step - loss: 0.0023 - accuracy: 1.0000 - val_loss: 0.4620 - val_accuracy: 0.8533\n",
            "Epoch 57/100\n",
            "60/60 [==============================] - 0s 2ms/step - loss: 0.0021 - accuracy: 1.0000 - val_loss: 0.4642 - val_accuracy: 0.8600\n",
            "Epoch 58/100\n",
            "60/60 [==============================] - 0s 2ms/step - loss: 0.0021 - accuracy: 1.0000 - val_loss: 0.4663 - val_accuracy: 0.8533\n",
            "Epoch 59/100\n",
            "60/60 [==============================] - 0s 2ms/step - loss: 0.0019 - accuracy: 1.0000 - val_loss: 0.4681 - val_accuracy: 0.8600\n",
            "Epoch 60/100\n",
            "60/60 [==============================] - 0s 3ms/step - loss: 0.0021 - accuracy: 1.0000 - val_loss: 0.4704 - val_accuracy: 0.8600\n",
            "Epoch 61/100\n",
            "60/60 [==============================] - 0s 2ms/step - loss: 0.0020 - accuracy: 1.0000 - val_loss: 0.4719 - val_accuracy: 0.8533\n",
            "Epoch 62/100\n",
            "60/60 [==============================] - 0s 2ms/step - loss: 0.0016 - accuracy: 1.0000 - val_loss: 0.4742 - val_accuracy: 0.8533\n",
            "Epoch 63/100\n",
            "60/60 [==============================] - 0s 3ms/step - loss: 0.0017 - accuracy: 1.0000 - val_loss: 0.4764 - val_accuracy: 0.8533\n",
            "Epoch 64/100\n",
            "60/60 [==============================] - 0s 2ms/step - loss: 0.0017 - accuracy: 1.0000 - val_loss: 0.4788 - val_accuracy: 0.8533\n",
            "Epoch 65/100\n",
            "60/60 [==============================] - 0s 2ms/step - loss: 0.0017 - accuracy: 1.0000 - val_loss: 0.4810 - val_accuracy: 0.8533\n",
            "Epoch 66/100\n",
            "60/60 [==============================] - 0s 2ms/step - loss: 0.0014 - accuracy: 1.0000 - val_loss: 0.4825 - val_accuracy: 0.8533\n",
            "Epoch 67/100\n",
            "60/60 [==============================] - 0s 2ms/step - loss: 0.0015 - accuracy: 1.0000 - val_loss: 0.4849 - val_accuracy: 0.8533\n",
            "Epoch 68/100\n",
            "60/60 [==============================] - 0s 2ms/step - loss: 0.0012 - accuracy: 1.0000 - val_loss: 0.4861 - val_accuracy: 0.8533\n",
            "Epoch 69/100\n",
            "60/60 [==============================] - 0s 2ms/step - loss: 0.0011 - accuracy: 1.0000 - val_loss: 0.4884 - val_accuracy: 0.8533\n",
            "Epoch 70/100\n",
            "60/60 [==============================] - 0s 3ms/step - loss: 0.0011 - accuracy: 1.0000 - val_loss: 0.4904 - val_accuracy: 0.8533\n",
            "Epoch 71/100\n",
            "60/60 [==============================] - 0s 2ms/step - loss: 0.0012 - accuracy: 1.0000 - val_loss: 0.4930 - val_accuracy: 0.8533\n",
            "Epoch 72/100\n",
            "60/60 [==============================] - 0s 3ms/step - loss: 0.0010 - accuracy: 1.0000 - val_loss: 0.4948 - val_accuracy: 0.8533\n",
            "Epoch 73/100\n",
            "60/60 [==============================] - 0s 2ms/step - loss: 0.0010 - accuracy: 1.0000 - val_loss: 0.4965 - val_accuracy: 0.8533\n",
            "Epoch 74/100\n",
            "60/60 [==============================] - 0s 3ms/step - loss: 0.0011 - accuracy: 1.0000 - val_loss: 0.4987 - val_accuracy: 0.8533\n",
            "Epoch 75/100\n",
            "60/60 [==============================] - 0s 2ms/step - loss: 8.6624e-04 - accuracy: 1.0000 - val_loss: 0.5013 - val_accuracy: 0.8533\n",
            "Epoch 76/100\n",
            "60/60 [==============================] - 0s 2ms/step - loss: 8.5341e-04 - accuracy: 1.0000 - val_loss: 0.5024 - val_accuracy: 0.8533\n",
            "Epoch 77/100\n",
            "60/60 [==============================] - 0s 3ms/step - loss: 0.0010 - accuracy: 1.0000 - val_loss: 0.5045 - val_accuracy: 0.8533\n",
            "Epoch 78/100\n",
            "60/60 [==============================] - 0s 3ms/step - loss: 7.5669e-04 - accuracy: 1.0000 - val_loss: 0.5064 - val_accuracy: 0.8533\n",
            "Epoch 79/100\n",
            "60/60 [==============================] - 0s 2ms/step - loss: 8.1675e-04 - accuracy: 1.0000 - val_loss: 0.5087 - val_accuracy: 0.8533\n",
            "Epoch 80/100\n",
            "60/60 [==============================] - 0s 2ms/step - loss: 7.6113e-04 - accuracy: 1.0000 - val_loss: 0.5106 - val_accuracy: 0.8533\n",
            "Epoch 81/100\n",
            "60/60 [==============================] - 0s 3ms/step - loss: 7.3893e-04 - accuracy: 1.0000 - val_loss: 0.5125 - val_accuracy: 0.8533\n",
            "Epoch 82/100\n",
            "60/60 [==============================] - 0s 3ms/step - loss: 7.6998e-04 - accuracy: 1.0000 - val_loss: 0.5140 - val_accuracy: 0.8600\n",
            "Epoch 83/100\n",
            "60/60 [==============================] - 0s 3ms/step - loss: 7.6715e-04 - accuracy: 1.0000 - val_loss: 0.5167 - val_accuracy: 0.8667\n",
            "Epoch 84/100\n",
            "60/60 [==============================] - 0s 3ms/step - loss: 6.0207e-04 - accuracy: 1.0000 - val_loss: 0.5182 - val_accuracy: 0.8667\n",
            "Epoch 85/100\n",
            "60/60 [==============================] - 0s 2ms/step - loss: 6.1228e-04 - accuracy: 1.0000 - val_loss: 0.5204 - val_accuracy: 0.8667\n",
            "Epoch 86/100\n",
            "60/60 [==============================] - 0s 2ms/step - loss: 5.8468e-04 - accuracy: 1.0000 - val_loss: 0.5219 - val_accuracy: 0.8667\n",
            "Epoch 87/100\n",
            "60/60 [==============================] - 0s 3ms/step - loss: 6.2188e-04 - accuracy: 1.0000 - val_loss: 0.5240 - val_accuracy: 0.8667\n",
            "Epoch 88/100\n",
            "60/60 [==============================] - 0s 2ms/step - loss: 5.8414e-04 - accuracy: 1.0000 - val_loss: 0.5260 - val_accuracy: 0.8600\n",
            "Epoch 89/100\n",
            "60/60 [==============================] - 0s 3ms/step - loss: 5.1724e-04 - accuracy: 1.0000 - val_loss: 0.5279 - val_accuracy: 0.8600\n",
            "Epoch 90/100\n",
            "60/60 [==============================] - 0s 3ms/step - loss: 5.7603e-04 - accuracy: 1.0000 - val_loss: 0.5302 - val_accuracy: 0.8600\n",
            "Epoch 91/100\n",
            "60/60 [==============================] - 0s 2ms/step - loss: 5.0956e-04 - accuracy: 1.0000 - val_loss: 0.5314 - val_accuracy: 0.8600\n",
            "Epoch 92/100\n",
            "60/60 [==============================] - 0s 2ms/step - loss: 4.5731e-04 - accuracy: 1.0000 - val_loss: 0.5338 - val_accuracy: 0.8600\n",
            "Epoch 93/100\n",
            "60/60 [==============================] - 0s 3ms/step - loss: 4.7248e-04 - accuracy: 1.0000 - val_loss: 0.5357 - val_accuracy: 0.8600\n",
            "Epoch 94/100\n",
            "60/60 [==============================] - 0s 2ms/step - loss: 4.3526e-04 - accuracy: 1.0000 - val_loss: 0.5372 - val_accuracy: 0.8600\n",
            "Epoch 95/100\n",
            "60/60 [==============================] - 0s 3ms/step - loss: 4.2994e-04 - accuracy: 1.0000 - val_loss: 0.5391 - val_accuracy: 0.8600\n",
            "Epoch 96/100\n",
            "60/60 [==============================] - 0s 3ms/step - loss: 4.0502e-04 - accuracy: 1.0000 - val_loss: 0.5410 - val_accuracy: 0.8600\n",
            "Epoch 97/100\n",
            "60/60 [==============================] - 0s 3ms/step - loss: 3.9716e-04 - accuracy: 1.0000 - val_loss: 0.5435 - val_accuracy: 0.8600\n",
            "Epoch 98/100\n",
            "60/60 [==============================] - 0s 2ms/step - loss: 3.4089e-04 - accuracy: 1.0000 - val_loss: 0.5454 - val_accuracy: 0.8600\n",
            "Epoch 99/100\n",
            "60/60 [==============================] - 0s 2ms/step - loss: 3.9376e-04 - accuracy: 1.0000 - val_loss: 0.5471 - val_accuracy: 0.8600\n",
            "Epoch 100/100\n",
            "60/60 [==============================] - 0s 2ms/step - loss: 3.3729e-04 - accuracy: 1.0000 - val_loss: 0.5483 - val_accuracy: 0.8600\n",
            "TestAccuracy:  77.99999713897705\n"
          ],
          "name": "stdout"
        }
      ]
    },
    {
      "cell_type": "code",
      "metadata": {
        "colab": {
          "base_uri": "https://localhost:8080/",
          "height": 626
        },
        "id": "wlxQUrNIoRva",
        "outputId": "df01b9a8-e714-4d0d-ff63-5752bfd6bc41"
      },
      "source": [
        "fig = plt.figure(figsize=(15, 10))\n",
        "plt.subplot(2,1,1)\n",
        "\n",
        "plt.plot(hist.history['accuracy'])\n",
        "plt.plot(hist.history['val_accuracy'])\n",
        "plt.title('model accuracy', fontsize=15, fontweight='bold')\n",
        "plt.ylabel('accuracy', fontsize=12, fontweight='bold')\n",
        "plt.xlabel('epoch', fontsize=12, fontweight='bold')\n",
        "plt.legend(['train', 'test'], loc='lower right')\n",
        "plt.subplot(2,1,2)\n",
        "plt.plot(hist.history['loss'])\n",
        "plt.plot(hist.history['val_loss'])\n",
        "plt.title('model loss', fontsize=15, fontweight='bold')\n",
        "plt.ylabel('loss', fontsize=12, fontweight='bold')\n",
        "plt.xlabel('epoch', fontsize=12, fontweight='bold')\n",
        "plt.legend(['train', 'test'], loc='upper right')\n",
        "plt.show()"
      ],
      "execution_count": null,
      "outputs": [
        {
          "output_type": "display_data",
          "data": {
            "image/png": "[encoded data removed]",
            "text/plain": [
              "<Figure size 1080x720 with 2 Axes>"
            ]
          },
          "metadata": {
            "tags": [],
            "needs_background": "light"
          }
        }
      ]
    },
    {
      "cell_type": "markdown",
      "metadata": {
        "id": "fb7g2H8bp17l"
      },
      "source": [
        "Q4-Explain these graphs. If you see any issue, suggest a solution to resolve it.Make the model by creating  3  hidden  layers  (first  one  200  nodes,  second  one  100  nodes  and  last  one  50  nodes  and after each step, add dropout of 0.2 and report the accuracy. \n",
        "\n",
        "ANSWER: The graphs indicate potential overfitting as the accuracy of the test dataset is significant lower than the training dataset. In addition, the model stopped improving at early stage (within about 10 epochs). We can consider adding dropout layers in the model. On the other hand, the loss function stopped improving at early stage as well which indicates that there might be a lack of complexity of the model. To resolve it, we can consider adding more hidden layers to the model.\n",
        "Also, it is worth noting that the logistic regression model has an accuracy of 79.6% and it is actually slightly higher than the accuracy of the DNN model which is 78%. With this being said, it is true that sometimes we don't need fancy models or algorithms to have a fair result."
      ]
    },
    {
      "cell_type": "code",
      "metadata": {
        "colab": {
          "base_uri": "https://localhost:8080/"
        },
        "id": "4us3jxmFoR46",
        "outputId": "555f5a42-fec1-41a9-eee2-7940b49f9bcb"
      },
      "source": [
        "# Q4 Continued \n",
        "\n",
        "model2 =Sequential()\n",
        "model2.add(layers.Dense(10,input_dim=input_dim,activation='relu'))\n",
        "model2.add(layers.Dense(200))\n",
        "model2.add(layers.Dropout(0.2))\n",
        "model2.add(layers.Dense(100))\n",
        "model2.add(layers.Dropout(0.2))\n",
        "model2.add(layers.Dense(50))\n",
        "model2.add(layers.Dropout(0.2))\n",
        "model2.add(layers.Dense(1,activation='sigmoid'))\n",
        "\n",
        "model2.compile(loss='binary_crossentropy',optimizer='adam',metrics=['accuracy'])\n",
        "\n",
        "hist2 =model2.fit(X_train,y_train,epochs=100,validation_split=0.2 ,batch_size=10)\n",
        "loss, accuracy =model2.evaluate(X_test,y_test,verbose=False)\n",
        "\n",
        "print(\"TestAccuracy: \",accuracy*100)"
      ],
      "execution_count": null,
      "outputs": [
        {
          "output_type": "stream",
          "text": [
            "Epoch 1/100\n",
            "60/60 [==============================] - 1s 5ms/step - loss: 0.6914 - accuracy: 0.5156 - val_loss: 0.6429 - val_accuracy: 0.6867\n",
            "Epoch 2/100\n",
            "60/60 [==============================] - 0s 3ms/step - loss: 0.5077 - accuracy: 0.7831 - val_loss: 0.5211 - val_accuracy: 0.7600\n",
            "Epoch 3/100\n",
            "60/60 [==============================] - 0s 3ms/step - loss: 0.1595 - accuracy: 0.9379 - val_loss: 0.5970 - val_accuracy: 0.8200\n",
            "Epoch 4/100\n",
            "60/60 [==============================] - 0s 3ms/step - loss: 0.0261 - accuracy: 0.9937 - val_loss: 0.7239 - val_accuracy: 0.8200\n",
            "Epoch 5/100\n",
            "60/60 [==============================] - 0s 3ms/step - loss: 0.0134 - accuracy: 0.9931 - val_loss: 0.7863 - val_accuracy: 0.8333\n",
            "Epoch 6/100\n",
            "60/60 [==============================] - 0s 3ms/step - loss: 0.0033 - accuracy: 1.0000 - val_loss: 0.9468 - val_accuracy: 0.8400\n",
            "Epoch 7/100\n",
            "60/60 [==============================] - 0s 3ms/step - loss: 0.0018 - accuracy: 1.0000 - val_loss: 0.9517 - val_accuracy: 0.8467\n",
            "Epoch 8/100\n",
            "60/60 [==============================] - 0s 3ms/step - loss: 8.3678e-04 - accuracy: 1.0000 - val_loss: 1.0065 - val_accuracy: 0.8467\n",
            "Epoch 9/100\n",
            "60/60 [==============================] - 0s 3ms/step - loss: 5.2684e-04 - accuracy: 1.0000 - val_loss: 1.0421 - val_accuracy: 0.8400\n",
            "Epoch 10/100\n",
            "60/60 [==============================] - 0s 3ms/step - loss: 4.4121e-04 - accuracy: 1.0000 - val_loss: 1.0819 - val_accuracy: 0.8400\n",
            "Epoch 11/100\n",
            "60/60 [==============================] - 0s 3ms/step - loss: 3.0632e-04 - accuracy: 1.0000 - val_loss: 1.1117 - val_accuracy: 0.8400\n",
            "Epoch 12/100\n",
            "60/60 [==============================] - 0s 3ms/step - loss: 2.4470e-04 - accuracy: 1.0000 - val_loss: 1.1414 - val_accuracy: 0.8400\n",
            "Epoch 13/100\n",
            "60/60 [==============================] - 0s 3ms/step - loss: 2.1559e-04 - accuracy: 1.0000 - val_loss: 1.1616 - val_accuracy: 0.8400\n",
            "Epoch 14/100\n",
            "60/60 [==============================] - 0s 3ms/step - loss: 1.4861e-04 - accuracy: 1.0000 - val_loss: 1.1842 - val_accuracy: 0.8400\n",
            "Epoch 15/100\n",
            "60/60 [==============================] - 0s 3ms/step - loss: 1.7585e-04 - accuracy: 1.0000 - val_loss: 1.2166 - val_accuracy: 0.8400\n",
            "Epoch 16/100\n",
            "60/60 [==============================] - 0s 3ms/step - loss: 1.5308e-04 - accuracy: 1.0000 - val_loss: 1.2347 - val_accuracy: 0.8400\n",
            "Epoch 17/100\n",
            "60/60 [==============================] - 0s 3ms/step - loss: 1.2085e-04 - accuracy: 1.0000 - val_loss: 1.2563 - val_accuracy: 0.8400\n",
            "Epoch 18/100\n",
            "60/60 [==============================] - 0s 3ms/step - loss: 8.7032e-05 - accuracy: 1.0000 - val_loss: 1.2695 - val_accuracy: 0.8400\n",
            "Epoch 19/100\n",
            "60/60 [==============================] - 0s 3ms/step - loss: 1.6891e-04 - accuracy: 1.0000 - val_loss: 1.3014 - val_accuracy: 0.8400\n",
            "Epoch 20/100\n",
            "60/60 [==============================] - 0s 3ms/step - loss: 6.3634e-05 - accuracy: 1.0000 - val_loss: 1.3108 - val_accuracy: 0.8400\n",
            "Epoch 21/100\n",
            "60/60 [==============================] - 0s 3ms/step - loss: 7.9344e-05 - accuracy: 1.0000 - val_loss: 1.3225 - val_accuracy: 0.8400\n",
            "Epoch 22/100\n",
            "60/60 [==============================] - 0s 3ms/step - loss: 5.0389e-05 - accuracy: 1.0000 - val_loss: 1.3337 - val_accuracy: 0.8333\n",
            "Epoch 23/100\n",
            "60/60 [==============================] - 0s 3ms/step - loss: 5.0383e-05 - accuracy: 1.0000 - val_loss: 1.3487 - val_accuracy: 0.8333\n",
            "Epoch 24/100\n",
            "60/60 [==============================] - 0s 3ms/step - loss: 3.2915e-05 - accuracy: 1.0000 - val_loss: 1.3583 - val_accuracy: 0.8267\n",
            "Epoch 25/100\n",
            "60/60 [==============================] - 0s 3ms/step - loss: 4.2194e-05 - accuracy: 1.0000 - val_loss: 1.3699 - val_accuracy: 0.8267\n",
            "Epoch 26/100\n",
            "60/60 [==============================] - 0s 3ms/step - loss: 4.4474e-05 - accuracy: 1.0000 - val_loss: 1.3816 - val_accuracy: 0.8267\n",
            "Epoch 27/100\n",
            "60/60 [==============================] - 0s 3ms/step - loss: 1.7217e-05 - accuracy: 1.0000 - val_loss: 1.3862 - val_accuracy: 0.8267\n",
            "Epoch 28/100\n",
            "60/60 [==============================] - 0s 3ms/step - loss: 2.5166e-05 - accuracy: 1.0000 - val_loss: 1.3957 - val_accuracy: 0.8267\n",
            "Epoch 29/100\n",
            "60/60 [==============================] - 0s 3ms/step - loss: 2.8055e-05 - accuracy: 1.0000 - val_loss: 1.4090 - val_accuracy: 0.8267\n",
            "Epoch 30/100\n",
            "60/60 [==============================] - 0s 3ms/step - loss: 3.0976e-05 - accuracy: 1.0000 - val_loss: 1.4189 - val_accuracy: 0.8267\n",
            "Epoch 31/100\n",
            "60/60 [==============================] - 0s 3ms/step - loss: 3.0043e-05 - accuracy: 1.0000 - val_loss: 1.4377 - val_accuracy: 0.8267\n",
            "Epoch 32/100\n",
            "60/60 [==============================] - 0s 3ms/step - loss: 1.8087e-05 - accuracy: 1.0000 - val_loss: 1.4472 - val_accuracy: 0.8267\n",
            "Epoch 33/100\n",
            "60/60 [==============================] - 0s 3ms/step - loss: 1.1841e-05 - accuracy: 1.0000 - val_loss: 1.4511 - val_accuracy: 0.8267\n",
            "Epoch 34/100\n",
            "60/60 [==============================] - 0s 3ms/step - loss: 1.1922e-05 - accuracy: 1.0000 - val_loss: 1.4577 - val_accuracy: 0.8267\n",
            "Epoch 35/100\n",
            "60/60 [==============================] - 0s 3ms/step - loss: 2.8507e-05 - accuracy: 1.0000 - val_loss: 1.4678 - val_accuracy: 0.8267\n",
            "Epoch 36/100\n",
            "60/60 [==============================] - 0s 3ms/step - loss: 1.0877e-05 - accuracy: 1.0000 - val_loss: 1.4725 - val_accuracy: 0.8333\n",
            "Epoch 37/100\n",
            "60/60 [==============================] - 0s 3ms/step - loss: 1.1948e-05 - accuracy: 1.0000 - val_loss: 1.4799 - val_accuracy: 0.8333\n",
            "Epoch 38/100\n",
            "60/60 [==============================] - 0s 3ms/step - loss: 3.2340e-05 - accuracy: 1.0000 - val_loss: 1.4862 - val_accuracy: 0.8333\n",
            "Epoch 39/100\n",
            "60/60 [==============================] - 0s 3ms/step - loss: 1.5010e-05 - accuracy: 1.0000 - val_loss: 1.4950 - val_accuracy: 0.8333\n",
            "Epoch 40/100\n",
            "60/60 [==============================] - 0s 3ms/step - loss: 1.1555e-05 - accuracy: 1.0000 - val_loss: 1.5038 - val_accuracy: 0.8333\n",
            "Epoch 41/100\n",
            "60/60 [==============================] - 0s 3ms/step - loss: 1.4804e-05 - accuracy: 1.0000 - val_loss: 1.5091 - val_accuracy: 0.8333\n",
            "Epoch 42/100\n",
            "60/60 [==============================] - 0s 3ms/step - loss: 1.4317e-05 - accuracy: 1.0000 - val_loss: 1.5161 - val_accuracy: 0.8333\n",
            "Epoch 43/100\n",
            "60/60 [==============================] - 0s 3ms/step - loss: 5.7234e-06 - accuracy: 1.0000 - val_loss: 1.5220 - val_accuracy: 0.8333\n",
            "Epoch 44/100\n",
            "60/60 [==============================] - 0s 3ms/step - loss: 7.9395e-06 - accuracy: 1.0000 - val_loss: 1.5303 - val_accuracy: 0.8333\n",
            "Epoch 45/100\n",
            "60/60 [==============================] - 0s 3ms/step - loss: 6.7512e-06 - accuracy: 1.0000 - val_loss: 1.5377 - val_accuracy: 0.8333\n",
            "Epoch 46/100\n",
            "60/60 [==============================] - 0s 3ms/step - loss: 5.5829e-06 - accuracy: 1.0000 - val_loss: 1.5435 - val_accuracy: 0.8333\n",
            "Epoch 47/100\n",
            "60/60 [==============================] - 0s 3ms/step - loss: 1.1966e-05 - accuracy: 1.0000 - val_loss: 1.5503 - val_accuracy: 0.8333\n",
            "Epoch 48/100\n",
            "60/60 [==============================] - 0s 3ms/step - loss: 9.0700e-06 - accuracy: 1.0000 - val_loss: 1.5568 - val_accuracy: 0.8333\n",
            "Epoch 49/100\n",
            "60/60 [==============================] - 0s 3ms/step - loss: 6.3748e-06 - accuracy: 1.0000 - val_loss: 1.5642 - val_accuracy: 0.8333\n",
            "Epoch 50/100\n",
            "60/60 [==============================] - 0s 3ms/step - loss: 1.0213e-05 - accuracy: 1.0000 - val_loss: 1.5693 - val_accuracy: 0.8333\n",
            "Epoch 51/100\n",
            "60/60 [==============================] - 0s 3ms/step - loss: 6.8124e-06 - accuracy: 1.0000 - val_loss: 1.5751 - val_accuracy: 0.8333\n",
            "Epoch 52/100\n",
            "60/60 [==============================] - 0s 3ms/step - loss: 1.1470e-05 - accuracy: 1.0000 - val_loss: 1.5850 - val_accuracy: 0.8333\n",
            "Epoch 53/100\n",
            "60/60 [==============================] - 0s 3ms/step - loss: 8.8443e-06 - accuracy: 1.0000 - val_loss: 1.5962 - val_accuracy: 0.8333\n",
            "Epoch 54/100\n",
            "60/60 [==============================] - 0s 3ms/step - loss: 1.1475e-05 - accuracy: 1.0000 - val_loss: 1.6030 - val_accuracy: 0.8333\n",
            "Epoch 55/100\n",
            "60/60 [==============================] - 0s 3ms/step - loss: 3.3556e-05 - accuracy: 1.0000 - val_loss: 1.6191 - val_accuracy: 0.8333\n",
            "Epoch 56/100\n",
            "60/60 [==============================] - 0s 3ms/step - loss: 5.2750e-06 - accuracy: 1.0000 - val_loss: 1.6247 - val_accuracy: 0.8333\n",
            "Epoch 57/100\n",
            "60/60 [==============================] - 0s 3ms/step - loss: 5.9700e-06 - accuracy: 1.0000 - val_loss: 1.6280 - val_accuracy: 0.8333\n",
            "Epoch 58/100\n",
            "60/60 [==============================] - 0s 3ms/step - loss: 5.3459e-06 - accuracy: 1.0000 - val_loss: 1.6336 - val_accuracy: 0.8333\n",
            "Epoch 59/100\n",
            "60/60 [==============================] - 0s 3ms/step - loss: 7.6044e-06 - accuracy: 1.0000 - val_loss: 1.6472 - val_accuracy: 0.8333\n",
            "Epoch 60/100\n",
            "60/60 [==============================] - 0s 3ms/step - loss: 4.8919e-06 - accuracy: 1.0000 - val_loss: 1.6530 - val_accuracy: 0.8333\n",
            "Epoch 61/100\n",
            "60/60 [==============================] - 0s 3ms/step - loss: 5.5328e-06 - accuracy: 1.0000 - val_loss: 1.6570 - val_accuracy: 0.8333\n",
            "Epoch 62/100\n",
            "60/60 [==============================] - 0s 3ms/step - loss: 4.7993e-06 - accuracy: 1.0000 - val_loss: 1.6635 - val_accuracy: 0.8333\n",
            "Epoch 63/100\n",
            "60/60 [==============================] - 0s 3ms/step - loss: 4.4883e-06 - accuracy: 1.0000 - val_loss: 1.6726 - val_accuracy: 0.8333\n",
            "Epoch 64/100\n",
            "60/60 [==============================] - 0s 3ms/step - loss: 2.9112e-06 - accuracy: 1.0000 - val_loss: 1.6766 - val_accuracy: 0.8333\n",
            "Epoch 65/100\n",
            "60/60 [==============================] - 0s 3ms/step - loss: 3.5646e-06 - accuracy: 1.0000 - val_loss: 1.6808 - val_accuracy: 0.8333\n",
            "Epoch 66/100\n",
            "60/60 [==============================] - 0s 3ms/step - loss: 2.0586e-06 - accuracy: 1.0000 - val_loss: 1.6858 - val_accuracy: 0.8333\n",
            "Epoch 67/100\n",
            "60/60 [==============================] - 0s 3ms/step - loss: 3.4825e-06 - accuracy: 1.0000 - val_loss: 1.6908 - val_accuracy: 0.8333\n",
            "Epoch 68/100\n",
            "60/60 [==============================] - 0s 3ms/step - loss: 3.7904e-06 - accuracy: 1.0000 - val_loss: 1.6983 - val_accuracy: 0.8333\n",
            "Epoch 69/100\n",
            "60/60 [==============================] - 0s 3ms/step - loss: 4.9515e-06 - accuracy: 1.0000 - val_loss: 1.7088 - val_accuracy: 0.8333\n",
            "Epoch 70/100\n",
            "60/60 [==============================] - 0s 3ms/step - loss: 3.2674e-06 - accuracy: 1.0000 - val_loss: 1.7191 - val_accuracy: 0.8333\n",
            "Epoch 71/100\n",
            "60/60 [==============================] - 0s 3ms/step - loss: 2.9337e-06 - accuracy: 1.0000 - val_loss: 1.7279 - val_accuracy: 0.8333\n",
            "Epoch 72/100\n",
            "60/60 [==============================] - 0s 3ms/step - loss: 2.8572e-06 - accuracy: 1.0000 - val_loss: 1.7323 - val_accuracy: 0.8333\n",
            "Epoch 73/100\n",
            "60/60 [==============================] - 0s 3ms/step - loss: 2.8880e-06 - accuracy: 1.0000 - val_loss: 1.7352 - val_accuracy: 0.8333\n",
            "Epoch 74/100\n",
            "60/60 [==============================] - 0s 3ms/step - loss: 6.7827e-06 - accuracy: 1.0000 - val_loss: 1.7408 - val_accuracy: 0.8333\n",
            "Epoch 75/100\n",
            "60/60 [==============================] - 0s 3ms/step - loss: 3.0793e-06 - accuracy: 1.0000 - val_loss: 1.7443 - val_accuracy: 0.8333\n",
            "Epoch 76/100\n",
            "60/60 [==============================] - 0s 3ms/step - loss: 1.4414e-06 - accuracy: 1.0000 - val_loss: 1.7507 - val_accuracy: 0.8333\n",
            "Epoch 77/100\n",
            "60/60 [==============================] - 0s 3ms/step - loss: 1.7644e-06 - accuracy: 1.0000 - val_loss: 1.7579 - val_accuracy: 0.8333\n",
            "Epoch 78/100\n",
            "60/60 [==============================] - 0s 3ms/step - loss: 2.7782e-06 - accuracy: 1.0000 - val_loss: 1.7639 - val_accuracy: 0.8333\n",
            "Epoch 79/100\n",
            "60/60 [==============================] - 0s 3ms/step - loss: 2.3126e-06 - accuracy: 1.0000 - val_loss: 1.7681 - val_accuracy: 0.8333\n",
            "Epoch 80/100\n",
            "60/60 [==============================] - 0s 3ms/step - loss: 1.7380e-06 - accuracy: 1.0000 - val_loss: 1.7741 - val_accuracy: 0.8333\n",
            "Epoch 81/100\n",
            "60/60 [==============================] - 0s 3ms/step - loss: 1.3688e-06 - accuracy: 1.0000 - val_loss: 1.7771 - val_accuracy: 0.8333\n",
            "Epoch 82/100\n",
            "60/60 [==============================] - 0s 3ms/step - loss: 2.7384e-06 - accuracy: 1.0000 - val_loss: 1.7837 - val_accuracy: 0.8333\n",
            "Epoch 83/100\n",
            "60/60 [==============================] - 0s 3ms/step - loss: 1.9998e-06 - accuracy: 1.0000 - val_loss: 1.7878 - val_accuracy: 0.8333\n",
            "Epoch 84/100\n",
            "60/60 [==============================] - 0s 3ms/step - loss: 1.2332e-06 - accuracy: 1.0000 - val_loss: 1.7935 - val_accuracy: 0.8333\n",
            "Epoch 85/100\n",
            "60/60 [==============================] - 0s 3ms/step - loss: 1.9302e-06 - accuracy: 1.0000 - val_loss: 1.7996 - val_accuracy: 0.8333\n",
            "Epoch 86/100\n",
            "60/60 [==============================] - 0s 3ms/step - loss: 2.7518e-06 - accuracy: 1.0000 - val_loss: 1.8061 - val_accuracy: 0.8333\n",
            "Epoch 87/100\n",
            "60/60 [==============================] - 0s 3ms/step - loss: 1.7854e-06 - accuracy: 1.0000 - val_loss: 1.8123 - val_accuracy: 0.8333\n",
            "Epoch 88/100\n",
            "60/60 [==============================] - 0s 3ms/step - loss: 1.5890e-06 - accuracy: 1.0000 - val_loss: 1.8169 - val_accuracy: 0.8333\n",
            "Epoch 89/100\n",
            "60/60 [==============================] - 0s 3ms/step - loss: 1.1348e-06 - accuracy: 1.0000 - val_loss: 1.8234 - val_accuracy: 0.8333\n",
            "Epoch 90/100\n",
            "60/60 [==============================] - 0s 3ms/step - loss: 9.5900e-07 - accuracy: 1.0000 - val_loss: 1.8287 - val_accuracy: 0.8333\n",
            "Epoch 91/100\n",
            "60/60 [==============================] - 0s 3ms/step - loss: 1.8262e-06 - accuracy: 1.0000 - val_loss: 1.8348 - val_accuracy: 0.8333\n",
            "Epoch 92/100\n",
            "60/60 [==============================] - 0s 3ms/step - loss: 2.0222e-06 - accuracy: 1.0000 - val_loss: 1.8420 - val_accuracy: 0.8333\n",
            "Epoch 93/100\n",
            "60/60 [==============================] - 0s 3ms/step - loss: 3.3449e-06 - accuracy: 1.0000 - val_loss: 1.8554 - val_accuracy: 0.8333\n",
            "Epoch 94/100\n",
            "60/60 [==============================] - 0s 3ms/step - loss: 5.6319e-07 - accuracy: 1.0000 - val_loss: 1.8577 - val_accuracy: 0.8333\n",
            "Epoch 95/100\n",
            "60/60 [==============================] - 0s 3ms/step - loss: 1.1507e-06 - accuracy: 1.0000 - val_loss: 1.8588 - val_accuracy: 0.8333\n",
            "Epoch 96/100\n",
            "60/60 [==============================] - 0s 3ms/step - loss: 1.0602e-06 - accuracy: 1.0000 - val_loss: 1.8642 - val_accuracy: 0.8333\n",
            "Epoch 97/100\n",
            "60/60 [==============================] - 0s 3ms/step - loss: 7.5545e-07 - accuracy: 1.0000 - val_loss: 1.8685 - val_accuracy: 0.8333\n",
            "Epoch 98/100\n",
            "60/60 [==============================] - 0s 3ms/step - loss: 6.2398e-07 - accuracy: 1.0000 - val_loss: 1.8737 - val_accuracy: 0.8333\n",
            "Epoch 99/100\n",
            "60/60 [==============================] - 0s 3ms/step - loss: 9.4903e-07 - accuracy: 1.0000 - val_loss: 1.8782 - val_accuracy: 0.8333\n",
            "Epoch 100/100\n",
            "60/60 [==============================] - 0s 3ms/step - loss: 1.2402e-06 - accuracy: 1.0000 - val_loss: 1.8837 - val_accuracy: 0.8333\n",
            "TestAccuracy:  74.80000257492065\n"
          ],
          "name": "stdout"
        }
      ]
    },
    {
      "cell_type": "markdown",
      "metadata": {
        "id": "cAfIJdWAurso"
      },
      "source": [
        "**Q4 Continued...**\n",
        "\n",
        "We have an accuracy of 74.8% after adding more layers and drpouts. We don't see major improvement of the model as expected.\n"
      ]
    },
    {
      "cell_type": "markdown",
      "metadata": {
        "id": "s6rdJ6tRvm1t"
      },
      "source": [
        "*3.2 Embedded word*"
      ]
    },
    {
      "cell_type": "code",
      "metadata": {
        "colab": {
          "base_uri": "https://localhost:8080/"
        },
        "id": "n3UIKXMYoSb_",
        "outputId": "cec8b42b-5681-413b-fc9d-9eb317f5508e"
      },
      "source": [
        "tokenizer =Tokenizer(num_words=5000)\n",
        "tokenizer.fit_on_texts(sentences_train)\n",
        "X_train =tokenizer.texts_to_sequences(sentences_train)\n",
        "X_test =tokenizer.texts_to_sequences(sentences_test)\n",
        "\n",
        "vocab_size =len(tokenizer.word_index)+1# Adding 1 because of reserved 0 index\n",
        "\n",
        "print(sentences_train[3])\n",
        "print(X_train[3])"
      ],
      "execution_count": null,
      "outputs": [
        {
          "output_type": "stream",
          "text": [
            "This is the phone to get for 2005.... I just bought my S710a and all I can say is WOW!\n",
            "[7, 5, 1, 9, 8, 92, 11, 676, 2, 59, 101, 10, 677, 3, 32, 2, 71, 225, 5, 449]\n"
          ],
          "name": "stdout"
        }
      ]
    },
    {
      "cell_type": "code",
      "metadata": {
        "colab": {
          "base_uri": "https://localhost:8080/"
        },
        "id": "tp-kidl3vu-o",
        "outputId": "288b28f0-4199-4a8a-c68f-c56611281997"
      },
      "source": [
        "for word in['the','all','happy']:\n",
        "  print('{}: {}'.format(word,tokenizer.word_index[word]))"
      ],
      "execution_count": null,
      "outputs": [
        {
          "output_type": "stream",
          "text": [
            "the: 1\n",
            "all: 32\n",
            "happy: 86\n"
          ],
          "name": "stdout"
        }
      ]
    },
    {
      "cell_type": "code",
      "metadata": {
        "colab": {
          "base_uri": "https://localhost:8080/"
        },
        "id": "WZraA4uKvvGq",
        "outputId": "a8ea9d25-e546-4a60-f490-9b608176e02d"
      },
      "source": [
        "maxlen =100\n",
        "# Pad variables with zeros \n",
        "X_train =pad_sequences(X_train,padding='post',maxlen=maxlen)\n",
        "X_test =pad_sequences(X_test,padding='post',maxlen=maxlen)\n",
        "print(X_train[0,:])"
      ],
      "execution_count": null,
      "outputs": [
        {
          "output_type": "stream",
          "text": [
            "[  7  24   5  16   4 137 148   6 223 315   2  71 224   8   1 673 111 444\n",
            "  18 316  11 445   0   0   0   0   0   0   0   0   0   0   0   0   0   0\n",
            "   0   0   0   0   0   0   0   0   0   0   0   0   0   0   0   0   0   0\n",
            "   0   0   0   0   0   0   0   0   0   0   0   0   0   0   0   0   0   0\n",
            "   0   0   0   0   0   0   0   0   0   0   0   0   0   0   0   0   0   0\n",
            "   0   0   0   0   0   0   0   0   0   0]\n"
          ],
          "name": "stdout"
        }
      ]
    },
    {
      "cell_type": "markdown",
      "metadata": {
        "id": "F1XQjdRLwagO"
      },
      "source": [
        "*3.3 Model training*"
      ]
    },
    {
      "cell_type": "code",
      "metadata": {
        "colab": {
          "base_uri": "https://localhost:8080/"
        },
        "id": "e7KKdW1PvvP7",
        "outputId": "ed34c278-db61-44e7-8915-2c4713df8cb1"
      },
      "source": [
        "embedding_dim =50\n",
        "model3 = Sequential()\n",
        "model3.add(layers.Embedding(input_dim=vocab_size,\n",
        "                            output_dim=embedding_dim,\n",
        "                            input_length=maxlen))\n",
        "model3.add(layers.GlobalMaxPool1D())\n",
        "model3.add(layers.Dense(10,activation='relu'))\n",
        "model3.add(layers.Dense(1,activation='sigmoid'))\n",
        "\n",
        "model3.compile(optimizer='adam',loss='binary_crossentropy',\n",
        "              metrics=['accuracy'])\n",
        "model3.summary()"
      ],
      "execution_count": null,
      "outputs": [
        {
          "output_type": "stream",
          "text": [
            "Model: \"sequential_7\"\n",
            "_________________________________________________________________\n",
            "Layer (type)                 Output Shape              Param #   \n",
            "=================================================================\n",
            "embedding (Embedding)        (None, 100, 50)           78700     \n",
            "_________________________________________________________________\n",
            "global_max_pooling1d (Global (None, 50)                0         \n",
            "_________________________________________________________________\n",
            "dense_17 (Dense)             (None, 10)                510       \n",
            "_________________________________________________________________\n",
            "dense_18 (Dense)             (None, 1)                 11        \n",
            "=================================================================\n",
            "Total params: 79,221\n",
            "Trainable params: 79,221\n",
            "Non-trainable params: 0\n",
            "_________________________________________________________________\n"
          ],
          "name": "stdout"
        }
      ]
    },
    {
      "cell_type": "code",
      "metadata": {
        "colab": {
          "base_uri": "https://localhost:8080/"
        },
        "id": "kRUY9JeTvvZI",
        "outputId": "2edeb55b-5155-47ba-c9cc-ac0ad78cca98"
      },
      "source": [
        "hist3 =model3.fit(X_train,y_train,\n",
        "                  epochs=50,\n",
        "                  validation_split=0.2,\n",
        "                  batch_size=10)\n",
        "\n",
        "loss,accuracy =model3.evaluate(X_test,y_test,verbose=False)\n",
        "\n",
        "print(\"Accuracy: \",accuracy)"
      ],
      "execution_count": null,
      "outputs": [
        {
          "output_type": "stream",
          "text": [
            "Epoch 1/50\n",
            "60/60 [==============================] - 1s 6ms/step - loss: 0.6901 - accuracy: 0.5509 - val_loss: 0.6774 - val_accuracy: 0.6600\n",
            "Epoch 2/50\n",
            "60/60 [==============================] - 0s 4ms/step - loss: 0.6559 - accuracy: 0.7438 - val_loss: 0.6380 - val_accuracy: 0.7867\n",
            "Epoch 3/50\n",
            "60/60 [==============================] - 0s 4ms/step - loss: 0.5743 - accuracy: 0.8750 - val_loss: 0.5589 - val_accuracy: 0.8000\n",
            "Epoch 4/50\n",
            "60/60 [==============================] - 0s 4ms/step - loss: 0.4158 - accuracy: 0.9639 - val_loss: 0.4734 - val_accuracy: 0.8200\n",
            "Epoch 5/50\n",
            "60/60 [==============================] - 0s 4ms/step - loss: 0.2580 - accuracy: 0.9766 - val_loss: 0.4232 - val_accuracy: 0.8200\n",
            "Epoch 6/50\n",
            "60/60 [==============================] - 0s 4ms/step - loss: 0.1611 - accuracy: 0.9814 - val_loss: 0.3985 - val_accuracy: 0.8333\n",
            "Epoch 7/50\n",
            "60/60 [==============================] - 0s 4ms/step - loss: 0.1021 - accuracy: 0.9881 - val_loss: 0.3824 - val_accuracy: 0.8467\n",
            "Epoch 8/50\n",
            "60/60 [==============================] - 0s 4ms/step - loss: 0.0595 - accuracy: 0.9972 - val_loss: 0.3739 - val_accuracy: 0.8467\n",
            "Epoch 9/50\n",
            "60/60 [==============================] - 0s 4ms/step - loss: 0.0410 - accuracy: 0.9987 - val_loss: 0.3671 - val_accuracy: 0.8467\n",
            "Epoch 10/50\n",
            "60/60 [==============================] - 0s 4ms/step - loss: 0.0268 - accuracy: 1.0000 - val_loss: 0.3660 - val_accuracy: 0.8400\n",
            "Epoch 11/50\n",
            "60/60 [==============================] - 0s 4ms/step - loss: 0.0221 - accuracy: 1.0000 - val_loss: 0.3641 - val_accuracy: 0.8467\n",
            "Epoch 12/50\n",
            "60/60 [==============================] - 0s 4ms/step - loss: 0.0158 - accuracy: 1.0000 - val_loss: 0.3654 - val_accuracy: 0.8600\n",
            "Epoch 13/50\n",
            "60/60 [==============================] - 0s 4ms/step - loss: 0.0138 - accuracy: 1.0000 - val_loss: 0.3658 - val_accuracy: 0.8533\n",
            "Epoch 14/50\n",
            "60/60 [==============================] - 0s 4ms/step - loss: 0.0089 - accuracy: 1.0000 - val_loss: 0.3685 - val_accuracy: 0.8467\n",
            "Epoch 15/50\n",
            "60/60 [==============================] - 0s 4ms/step - loss: 0.0087 - accuracy: 1.0000 - val_loss: 0.3680 - val_accuracy: 0.8533\n",
            "Epoch 16/50\n",
            "60/60 [==============================] - 0s 4ms/step - loss: 0.0063 - accuracy: 1.0000 - val_loss: 0.3688 - val_accuracy: 0.8533\n",
            "Epoch 17/50\n",
            "60/60 [==============================] - 0s 4ms/step - loss: 0.0048 - accuracy: 1.0000 - val_loss: 0.3704 - val_accuracy: 0.8533\n",
            "Epoch 18/50\n",
            "60/60 [==============================] - 0s 4ms/step - loss: 0.0046 - accuracy: 1.0000 - val_loss: 0.3742 - val_accuracy: 0.8533\n",
            "Epoch 19/50\n",
            "60/60 [==============================] - 0s 4ms/step - loss: 0.0040 - accuracy: 1.0000 - val_loss: 0.3758 - val_accuracy: 0.8600\n",
            "Epoch 20/50\n",
            "60/60 [==============================] - 0s 4ms/step - loss: 0.0031 - accuracy: 1.0000 - val_loss: 0.3778 - val_accuracy: 0.8533\n",
            "Epoch 21/50\n",
            "60/60 [==============================] - 0s 4ms/step - loss: 0.0026 - accuracy: 1.0000 - val_loss: 0.3806 - val_accuracy: 0.8533\n",
            "Epoch 22/50\n",
            "60/60 [==============================] - 0s 4ms/step - loss: 0.0024 - accuracy: 1.0000 - val_loss: 0.3843 - val_accuracy: 0.8533\n",
            "Epoch 23/50\n",
            "60/60 [==============================] - 0s 4ms/step - loss: 0.0022 - accuracy: 1.0000 - val_loss: 0.3862 - val_accuracy: 0.8600\n",
            "Epoch 24/50\n",
            "60/60 [==============================] - 0s 4ms/step - loss: 0.0020 - accuracy: 1.0000 - val_loss: 0.3882 - val_accuracy: 0.8533\n",
            "Epoch 25/50\n",
            "60/60 [==============================] - 0s 4ms/step - loss: 0.0016 - accuracy: 1.0000 - val_loss: 0.3911 - val_accuracy: 0.8600\n",
            "Epoch 26/50\n",
            "60/60 [==============================] - 0s 4ms/step - loss: 0.0017 - accuracy: 1.0000 - val_loss: 0.3928 - val_accuracy: 0.8533\n",
            "Epoch 27/50\n",
            "60/60 [==============================] - 0s 4ms/step - loss: 0.0013 - accuracy: 1.0000 - val_loss: 0.3949 - val_accuracy: 0.8533\n",
            "Epoch 28/50\n",
            "60/60 [==============================] - 0s 4ms/step - loss: 0.0013 - accuracy: 1.0000 - val_loss: 0.3971 - val_accuracy: 0.8600\n",
            "Epoch 29/50\n",
            "60/60 [==============================] - 0s 4ms/step - loss: 0.0010 - accuracy: 1.0000 - val_loss: 0.3989 - val_accuracy: 0.8533\n",
            "Epoch 30/50\n",
            "60/60 [==============================] - 0s 4ms/step - loss: 9.3880e-04 - accuracy: 1.0000 - val_loss: 0.4002 - val_accuracy: 0.8533\n",
            "Epoch 31/50\n",
            "60/60 [==============================] - 0s 4ms/step - loss: 8.3621e-04 - accuracy: 1.0000 - val_loss: 0.4022 - val_accuracy: 0.8533\n",
            "Epoch 32/50\n",
            "60/60 [==============================] - 0s 4ms/step - loss: 8.4336e-04 - accuracy: 1.0000 - val_loss: 0.4032 - val_accuracy: 0.8533\n",
            "Epoch 33/50\n",
            "60/60 [==============================] - 0s 4ms/step - loss: 9.6513e-04 - accuracy: 1.0000 - val_loss: 0.4051 - val_accuracy: 0.8467\n",
            "Epoch 34/50\n",
            "60/60 [==============================] - 0s 4ms/step - loss: 6.5726e-04 - accuracy: 1.0000 - val_loss: 0.4073 - val_accuracy: 0.8467\n",
            "Epoch 35/50\n",
            "60/60 [==============================] - 0s 4ms/step - loss: 6.5491e-04 - accuracy: 1.0000 - val_loss: 0.4088 - val_accuracy: 0.8467\n",
            "Epoch 36/50\n",
            "60/60 [==============================] - 0s 4ms/step - loss: 6.5728e-04 - accuracy: 1.0000 - val_loss: 0.4109 - val_accuracy: 0.8467\n",
            "Epoch 37/50\n",
            "60/60 [==============================] - 0s 4ms/step - loss: 5.5050e-04 - accuracy: 1.0000 - val_loss: 0.4126 - val_accuracy: 0.8467\n",
            "Epoch 38/50\n",
            "60/60 [==============================] - 0s 4ms/step - loss: 6.3082e-04 - accuracy: 1.0000 - val_loss: 0.4151 - val_accuracy: 0.8467\n",
            "Epoch 39/50\n",
            "60/60 [==============================] - 0s 4ms/step - loss: 4.5038e-04 - accuracy: 1.0000 - val_loss: 0.4166 - val_accuracy: 0.8467\n",
            "Epoch 40/50\n",
            "60/60 [==============================] - 0s 4ms/step - loss: 5.1072e-04 - accuracy: 1.0000 - val_loss: 0.4190 - val_accuracy: 0.8467\n",
            "Epoch 41/50\n",
            "60/60 [==============================] - 0s 4ms/step - loss: 4.7204e-04 - accuracy: 1.0000 - val_loss: 0.4213 - val_accuracy: 0.8467\n",
            "Epoch 42/50\n",
            "60/60 [==============================] - 0s 4ms/step - loss: 3.8898e-04 - accuracy: 1.0000 - val_loss: 0.4230 - val_accuracy: 0.8467\n",
            "Epoch 43/50\n",
            "60/60 [==============================] - 0s 4ms/step - loss: 3.5031e-04 - accuracy: 1.0000 - val_loss: 0.4250 - val_accuracy: 0.8400\n",
            "Epoch 44/50\n",
            "60/60 [==============================] - 0s 4ms/step - loss: 3.5072e-04 - accuracy: 1.0000 - val_loss: 0.4277 - val_accuracy: 0.8400\n",
            "Epoch 45/50\n",
            "60/60 [==============================] - 0s 4ms/step - loss: 2.8887e-04 - accuracy: 1.0000 - val_loss: 0.4306 - val_accuracy: 0.8333\n",
            "Epoch 46/50\n",
            "60/60 [==============================] - 0s 4ms/step - loss: 3.5126e-04 - accuracy: 1.0000 - val_loss: 0.4323 - val_accuracy: 0.8267\n",
            "Epoch 47/50\n",
            "60/60 [==============================] - 0s 4ms/step - loss: 3.0315e-04 - accuracy: 1.0000 - val_loss: 0.4345 - val_accuracy: 0.8267\n",
            "Epoch 48/50\n",
            "60/60 [==============================] - 0s 4ms/step - loss: 2.5445e-04 - accuracy: 1.0000 - val_loss: 0.4367 - val_accuracy: 0.8267\n",
            "Epoch 49/50\n",
            "60/60 [==============================] - 0s 4ms/step - loss: 2.6828e-04 - accuracy: 1.0000 - val_loss: 0.4398 - val_accuracy: 0.8267\n",
            "Epoch 50/50\n",
            "60/60 [==============================] - 0s 4ms/step - loss: 2.7564e-04 - accuracy: 1.0000 - val_loss: 0.4424 - val_accuracy: 0.8267\n",
            "Accuracy:  0.7919999957084656\n"
          ],
          "name": "stdout"
        }
      ]
    },
    {
      "cell_type": "code",
      "metadata": {
        "colab": {
          "base_uri": "https://localhost:8080/",
          "height": 626
        },
        "id": "KQfUFk2HxzU7",
        "outputId": "57daec53-91c7-47fe-8470-872707026e1e"
      },
      "source": [
        "fig = plt.figure(figsize=(15, 10))\n",
        "plt.subplot(2,1,1)\n",
        "\n",
        "plt.plot(hist3.history['accuracy'])\n",
        "plt.plot(hist3.history['val_accuracy'])\n",
        "plt.title('model accuracy', fontsize=15, fontweight='bold')\n",
        "plt.ylabel('accuracy', fontsize=12, fontweight='bold')\n",
        "plt.xlabel('epoch', fontsize=12, fontweight='bold')\n",
        "plt.legend(['train', 'test'], loc='lower right')\n",
        "plt.subplot(2,1,2)\n",
        "plt.plot(hist3.history['loss'])\n",
        "plt.plot(hist3.history['val_loss'])\n",
        "plt.title('model loss', fontsize=15, fontweight='bold')\n",
        "plt.ylabel('loss', fontsize=12, fontweight='bold')\n",
        "plt.xlabel('epoch', fontsize=12, fontweight='bold')\n",
        "plt.legend(['train', 'test'], loc='upper right')\n",
        "plt.show()"
      ],
      "execution_count": null,
      "outputs": [
        {
          "output_type": "display_data",
          "data": {
            "image/png": "[encoded data removed]",
            "text/plain": [
              "<Figure size 1080x720 with 2 Axes>"
            ]
          },
          "metadata": {
            "tags": [],
            "needs_background": "light"
          }
        }
      ]
    },
    {
      "cell_type": "markdown",
      "metadata": {
        "id": "zUC33dXayD1k"
      },
      "source": [
        "Q5-How do you interpret these results?\n",
        "\n",
        "ANSWER: Similar with the DNN model, we see potential overfitting of the CNN model although CNN shows higher accuracy of 80% than the DNN model. The DNN model stopped improving at very early stage and the test dataset showed lower accuarcy than training dataset. \n",
        "\n",
        "Q6-What is your recommendation to improve the accuracy?Implement your idea.\n",
        "\n",
        "ANSWER: My recommendation for this case is to add in more layers such as dropout layers."
      ]
    },
    {
      "cell_type": "code",
      "metadata": {
        "colab": {
          "base_uri": "https://localhost:8080/"
        },
        "id": "I_m_-do2xz2I",
        "outputId": "b44ec58d-60c7-400e-b194-8ff1f87a0970"
      },
      "source": [
        "model4 = Sequential()\n",
        "model4.add(layers.Embedding(input_dim=vocab_size,\n",
        "                            output_dim=embedding_dim,\n",
        "                            input_length=maxlen))\n",
        "model4.add(layers.GlobalMaxPool1D())\n",
        "model4.add(Dropout(0.25))\n",
        "model4.add(layers.Dense(15,activation='relu'))\n",
        "model4.add(Dropout(0.25))\n",
        "model4.add(layers.Dense(10,activation='relu'))\n",
        "model4.add(layers.Dense(1,activation='sigmoid'))\n",
        "\n",
        "model4.compile(optimizer='adam',loss='binary_crossentropy',\n",
        "              metrics=['accuracy'])\n",
        "\n",
        "hist4 =model4.fit(X_train,y_train,\n",
        "                  epochs=50,\n",
        "                  validation_split=0.2,\n",
        "                  batch_size=10)\n",
        "\n",
        "loss,accuracy =model4.evaluate(X_test,y_test,verbose=False)\n",
        "\n",
        "print(\"Accuracy: \",accuracy)"
      ],
      "execution_count": null,
      "outputs": [
        {
          "output_type": "stream",
          "text": [
            "Epoch 1/50\n",
            "60/60 [==============================] - 1s 6ms/step - loss: 0.6920 - accuracy: 0.5176 - val_loss: 0.6883 - val_accuracy: 0.5467\n",
            "Epoch 2/50\n",
            "60/60 [==============================] - 0s 4ms/step - loss: 0.6872 - accuracy: 0.5737 - val_loss: 0.6768 - val_accuracy: 0.6400\n",
            "Epoch 3/50\n",
            "60/60 [==============================] - 0s 4ms/step - loss: 0.6635 - accuracy: 0.6837 - val_loss: 0.6521 - val_accuracy: 0.7000\n",
            "Epoch 4/50\n",
            "60/60 [==============================] - 0s 4ms/step - loss: 0.6244 - accuracy: 0.7359 - val_loss: 0.6091 - val_accuracy: 0.7600\n",
            "Epoch 5/50\n",
            "60/60 [==============================] - 0s 4ms/step - loss: 0.5466 - accuracy: 0.8805 - val_loss: 0.5373 - val_accuracy: 0.7800\n",
            "Epoch 6/50\n",
            "60/60 [==============================] - 0s 4ms/step - loss: 0.4346 - accuracy: 0.8894 - val_loss: 0.4614 - val_accuracy: 0.8067\n",
            "Epoch 7/50\n",
            "60/60 [==============================] - 0s 4ms/step - loss: 0.2666 - accuracy: 0.9579 - val_loss: 0.4118 - val_accuracy: 0.8267\n",
            "Epoch 8/50\n",
            "60/60 [==============================] - 0s 4ms/step - loss: 0.1764 - accuracy: 0.9637 - val_loss: 0.4044 - val_accuracy: 0.8333\n",
            "Epoch 9/50\n",
            "60/60 [==============================] - 0s 4ms/step - loss: 0.1319 - accuracy: 0.9675 - val_loss: 0.4070 - val_accuracy: 0.8267\n",
            "Epoch 10/50\n",
            "60/60 [==============================] - 0s 4ms/step - loss: 0.0801 - accuracy: 0.9853 - val_loss: 0.4208 - val_accuracy: 0.8467\n",
            "Epoch 11/50\n",
            "60/60 [==============================] - 0s 4ms/step - loss: 0.0716 - accuracy: 0.9786 - val_loss: 0.4267 - val_accuracy: 0.8267\n",
            "Epoch 12/50\n",
            "60/60 [==============================] - 0s 4ms/step - loss: 0.0490 - accuracy: 0.9858 - val_loss: 0.4425 - val_accuracy: 0.8467\n",
            "Epoch 13/50\n",
            "60/60 [==============================] - 0s 4ms/step - loss: 0.0390 - accuracy: 0.9934 - val_loss: 0.4415 - val_accuracy: 0.8267\n",
            "Epoch 14/50\n",
            "60/60 [==============================] - 0s 4ms/step - loss: 0.0326 - accuracy: 0.9911 - val_loss: 0.4553 - val_accuracy: 0.8267\n",
            "Epoch 15/50\n",
            "60/60 [==============================] - 0s 4ms/step - loss: 0.0164 - accuracy: 0.9985 - val_loss: 0.4707 - val_accuracy: 0.8400\n",
            "Epoch 16/50\n",
            "60/60 [==============================] - 0s 4ms/step - loss: 0.0173 - accuracy: 0.9982 - val_loss: 0.4746 - val_accuracy: 0.8333\n",
            "Epoch 17/50\n",
            "60/60 [==============================] - 0s 4ms/step - loss: 0.0133 - accuracy: 0.9988 - val_loss: 0.4707 - val_accuracy: 0.8400\n",
            "Epoch 18/50\n",
            "60/60 [==============================] - 0s 4ms/step - loss: 0.0202 - accuracy: 0.9962 - val_loss: 0.4895 - val_accuracy: 0.8267\n",
            "Epoch 19/50\n",
            "60/60 [==============================] - 0s 4ms/step - loss: 0.0112 - accuracy: 0.9996 - val_loss: 0.4707 - val_accuracy: 0.8267\n",
            "Epoch 20/50\n",
            "60/60 [==============================] - 0s 4ms/step - loss: 0.0129 - accuracy: 0.9924 - val_loss: 0.4879 - val_accuracy: 0.8333\n",
            "Epoch 21/50\n",
            "60/60 [==============================] - 0s 4ms/step - loss: 0.0056 - accuracy: 0.9990 - val_loss: 0.4970 - val_accuracy: 0.8400\n",
            "Epoch 22/50\n",
            "60/60 [==============================] - 0s 4ms/step - loss: 0.0099 - accuracy: 1.0000 - val_loss: 0.5046 - val_accuracy: 0.8400\n",
            "Epoch 23/50\n",
            "60/60 [==============================] - 0s 4ms/step - loss: 0.0087 - accuracy: 1.0000 - val_loss: 0.5136 - val_accuracy: 0.8400\n",
            "Epoch 24/50\n",
            "60/60 [==============================] - 0s 4ms/step - loss: 0.0149 - accuracy: 0.9966 - val_loss: 0.5236 - val_accuracy: 0.8400\n",
            "Epoch 25/50\n",
            "60/60 [==============================] - 0s 4ms/step - loss: 0.0053 - accuracy: 1.0000 - val_loss: 0.5280 - val_accuracy: 0.8333\n",
            "Epoch 26/50\n",
            "60/60 [==============================] - 0s 4ms/step - loss: 0.0041 - accuracy: 1.0000 - val_loss: 0.5311 - val_accuracy: 0.8467\n",
            "Epoch 27/50\n",
            "60/60 [==============================] - 0s 4ms/step - loss: 0.0030 - accuracy: 1.0000 - val_loss: 0.5408 - val_accuracy: 0.8533\n",
            "Epoch 28/50\n",
            "60/60 [==============================] - 0s 4ms/step - loss: 0.0026 - accuracy: 0.9999 - val_loss: 0.5448 - val_accuracy: 0.8467\n",
            "Epoch 29/50\n",
            "60/60 [==============================] - 0s 4ms/step - loss: 0.0031 - accuracy: 1.0000 - val_loss: 0.5424 - val_accuracy: 0.8467\n",
            "Epoch 30/50\n",
            "60/60 [==============================] - 0s 4ms/step - loss: 0.0028 - accuracy: 1.0000 - val_loss: 0.5496 - val_accuracy: 0.8533\n",
            "Epoch 31/50\n",
            "60/60 [==============================] - 0s 4ms/step - loss: 0.0033 - accuracy: 1.0000 - val_loss: 0.5609 - val_accuracy: 0.8400\n",
            "Epoch 32/50\n",
            "60/60 [==============================] - 0s 4ms/step - loss: 0.0021 - accuracy: 1.0000 - val_loss: 0.5769 - val_accuracy: 0.8467\n",
            "Epoch 33/50\n",
            "60/60 [==============================] - 0s 4ms/step - loss: 0.0015 - accuracy: 1.0000 - val_loss: 0.5878 - val_accuracy: 0.8467\n",
            "Epoch 34/50\n",
            "60/60 [==============================] - 0s 4ms/step - loss: 0.0029 - accuracy: 1.0000 - val_loss: 0.5938 - val_accuracy: 0.8467\n",
            "Epoch 35/50\n",
            "60/60 [==============================] - 0s 4ms/step - loss: 0.0011 - accuracy: 1.0000 - val_loss: 0.5992 - val_accuracy: 0.8333\n",
            "Epoch 36/50\n",
            "60/60 [==============================] - 0s 5ms/step - loss: 0.0019 - accuracy: 1.0000 - val_loss: 0.6141 - val_accuracy: 0.8333\n",
            "Epoch 37/50\n",
            "60/60 [==============================] - 0s 4ms/step - loss: 5.9891e-04 - accuracy: 1.0000 - val_loss: 0.6213 - val_accuracy: 0.8333\n",
            "Epoch 38/50\n",
            "60/60 [==============================] - 0s 4ms/step - loss: 0.0015 - accuracy: 0.9998 - val_loss: 0.6235 - val_accuracy: 0.8533\n",
            "Epoch 39/50\n",
            "60/60 [==============================] - 0s 4ms/step - loss: 0.0018 - accuracy: 1.0000 - val_loss: 0.6264 - val_accuracy: 0.8467\n",
            "Epoch 40/50\n",
            "60/60 [==============================] - 0s 4ms/step - loss: 0.0016 - accuracy: 1.0000 - val_loss: 0.6215 - val_accuracy: 0.8467\n",
            "Epoch 41/50\n",
            "60/60 [==============================] - 0s 4ms/step - loss: 0.0011 - accuracy: 1.0000 - val_loss: 0.6283 - val_accuracy: 0.8467\n",
            "Epoch 42/50\n",
            "60/60 [==============================] - 0s 4ms/step - loss: 9.8934e-04 - accuracy: 1.0000 - val_loss: 0.6374 - val_accuracy: 0.8533\n",
            "Epoch 43/50\n",
            "60/60 [==============================] - 0s 4ms/step - loss: 0.0011 - accuracy: 1.0000 - val_loss: 0.6339 - val_accuracy: 0.8400\n",
            "Epoch 44/50\n",
            "60/60 [==============================] - 0s 4ms/step - loss: 0.0014 - accuracy: 1.0000 - val_loss: 0.6342 - val_accuracy: 0.8400\n",
            "Epoch 45/50\n",
            "60/60 [==============================] - 0s 4ms/step - loss: 0.0019 - accuracy: 1.0000 - val_loss: 0.6403 - val_accuracy: 0.8533\n",
            "Epoch 46/50\n",
            "60/60 [==============================] - 0s 4ms/step - loss: 0.0013 - accuracy: 1.0000 - val_loss: 0.6476 - val_accuracy: 0.8533\n",
            "Epoch 47/50\n",
            "60/60 [==============================] - 0s 4ms/step - loss: 0.0022 - accuracy: 1.0000 - val_loss: 0.6625 - val_accuracy: 0.8533\n",
            "Epoch 48/50\n",
            "60/60 [==============================] - 0s 4ms/step - loss: 8.3822e-04 - accuracy: 1.0000 - val_loss: 0.6682 - val_accuracy: 0.8467\n",
            "Epoch 49/50\n",
            "60/60 [==============================] - 0s 4ms/step - loss: 0.0015 - accuracy: 1.0000 - val_loss: 0.6914 - val_accuracy: 0.8467\n",
            "Epoch 50/50\n",
            "60/60 [==============================] - 0s 4ms/step - loss: 7.1686e-04 - accuracy: 1.0000 - val_loss: 0.6811 - val_accuracy: 0.8533\n",
            "Accuracy:  0.8199999928474426\n"
          ],
          "name": "stdout"
        }
      ]
    },
    {
      "cell_type": "markdown",
      "metadata": {
        "id": "xsjwkmXB1KfX"
      },
      "source": [
        "**Q6 Continued...**\n",
        "\n",
        "It indicated that after I implemented my idea of adding more layers to the model, the accuracy went up from 80% to 82%. However, we still see similar trend when plotting the learning curves. Therefore, we shall keep on working on the model with different parameters and see how the model can be furthur improved. "
      ]
    },
    {
      "cell_type": "code",
      "metadata": {
        "colab": {
          "base_uri": "https://localhost:8080/",
          "height": 626
        },
        "id": "8MbnTOg31fK0",
        "outputId": "cfaba69a-bf7b-46d4-f991-974dd90e3ccb"
      },
      "source": [
        "fig = plt.figure(figsize=(15, 10))\n",
        "plt.subplot(2,1,1)\n",
        "\n",
        "plt.plot(hist4.history['accuracy'])\n",
        "plt.plot(hist4.history['val_accuracy'])\n",
        "plt.title('model accuracy', fontsize=15, fontweight='bold')\n",
        "plt.ylabel('accuracy', fontsize=12, fontweight='bold')\n",
        "plt.xlabel('epoch', fontsize=12, fontweight='bold')\n",
        "plt.legend(['train', 'test'], loc='lower right')\n",
        "plt.subplot(2,1,2)\n",
        "plt.plot(hist4.history['loss'])\n",
        "plt.plot(hist4.history['val_loss'])\n",
        "plt.title('model loss', fontsize=15, fontweight='bold')\n",
        "plt.ylabel('loss', fontsize=12, fontweight='bold')\n",
        "plt.xlabel('epoch', fontsize=12, fontweight='bold')\n",
        "plt.legend(['train', 'test'], loc='upper right')\n",
        "plt.show()"
      ],
      "execution_count": null,
      "outputs": [
        {
          "output_type": "display_data",
          "data": {
            "image/png": "[encoded data removed]",
            "text/plain": [
              "<Figure size 1080x720 with 2 Axes>"
            ]
          },
          "metadata": {
            "tags": [],
            "needs_background": "light"
          }
        }
      ]
    },
    {
      "cell_type": "code",
      "metadata": {
        "colab": {
          "base_uri": "https://localhost:8080/"
        },
        "id": "K80Z3-c4Gu8I",
        "outputId": "f3f9e4a6-c5a9-4ea5-e516-76898ef2ed42"
      },
      "source": [
        "%shell jupyter nbconvert --to html '//content/gdrive/MyDrive/Colab Notebooks/ANLY 535 90 Lab 2 - Simeng Sun.ipynb'"
      ],
      "execution_count": null,
      "outputs": [
        {
          "output_type": "stream",
          "text": [
            "[NbConvertApp] Converting notebook //content/gdrive/MyDrive/Colab Notebooks/ANLY 535 90 Lab 2 - Simeng Sun.ipynb to html\n",
            "[NbConvertApp] Writing 616202 bytes to //content/gdrive/MyDrive/Colab Notebooks/ANLY 535 90 Lab 2 - Simeng Sun.html\n"
          ],
          "name": "stdout"
        },
        {
          "output_type": "execute_result",
          "data": {
            "text/plain": [
              ""
            ]
          },
          "metadata": {
            "tags": []
          },
          "execution_count": 45
        }
      ]
    }
  ]
}