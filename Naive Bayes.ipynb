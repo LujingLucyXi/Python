{
 "cells": [
  {
   "cell_type": "code",
   "execution_count": 14,
   "metadata": {},
   "outputs": [],
   "source": [
    "#Naive Bayes Classification\n",
    "#Lujing Xi\n",
    "from IPython.core.interactiveshell import InteractiveShell\n",
    "InteractiveShell.ast_node_interactivity = 'all'\n"
   ]
  },
  {
   "cell_type": "code",
   "execution_count": 15,
   "metadata": {},
   "outputs": [],
   "source": [
    "import pandas as pd\n",
    "import numpy as np\n",
    "import matplotlib.pyplot as plt\n",
    "import seaborn as sns\n",
    "from sklearn.model_selection import train_test_split, GridSearchCV, cross_val_score, ShuffleSplit\n",
    "from sklearn import metrics\n",
    "from sklearn.naive_bayes import GaussianNB, BernoulliNB, MultinomialNB"
   ]
  },
  {
   "cell_type": "code",
   "execution_count": 16,
   "metadata": {},
   "outputs": [
    {
     "name": "stdout",
     "output_type": "stream",
     "text": [
      "<class 'pandas.core.frame.DataFrame'>\n",
      "RangeIndex: 45211 entries, 0 to 45210\n",
      "Data columns (total 17 columns):\n",
      " #   Column     Non-Null Count  Dtype \n",
      "---  ------     --------------  ----- \n",
      " 0   age        45211 non-null  int64 \n",
      " 1   job        45211 non-null  object\n",
      " 2   marital    45211 non-null  object\n",
      " 3   education  45211 non-null  object\n",
      " 4   default    45211 non-null  object\n",
      " 5   balance    45211 non-null  int64 \n",
      " 6   housing    45211 non-null  object\n",
      " 7   loan       45211 non-null  object\n",
      " 8   contact    45211 non-null  object\n",
      " 9   day        45211 non-null  int64 \n",
      " 10  month      45211 non-null  object\n",
      " 11  duration   45211 non-null  int64 \n",
      " 12  campaign   45211 non-null  int64 \n",
      " 13  pdays      45211 non-null  int64 \n",
      " 14  previous   45211 non-null  int64 \n",
      " 15  poutcome   45211 non-null  object\n",
      " 16  y          45211 non-null  object\n",
      "dtypes: int64(7), object(10)\n",
      "memory usage: 5.9+ MB\n"
     ]
    }
   ],
   "source": [
    "bank = pd.read_csv(\"https://raw.githubusercontent.com/z-o-e/bank_data_analysis/master/bank-full.csv\", sep=';')\n",
    "bank.info()"
   ]
  },
  {
   "cell_type": "code",
   "execution_count": 17,
   "metadata": {},
   "outputs": [
    {
     "data": {
      "text/html": [
       "<div>\n",
       "<style scoped>\n",
       "    .dataframe tbody tr th:only-of-type {\n",
       "        vertical-align: middle;\n",
       "    }\n",
       "\n",
       "    .dataframe tbody tr th {\n",
       "        vertical-align: top;\n",
       "    }\n",
       "\n",
       "    .dataframe thead th {\n",
       "        text-align: right;\n",
       "    }\n",
       "</style>\n",
       "<table border=\"1\" class=\"dataframe\">\n",
       "  <thead>\n",
       "    <tr style=\"text-align: right;\">\n",
       "      <th></th>\n",
       "      <th>0</th>\n",
       "      <th>1</th>\n",
       "      <th>2</th>\n",
       "      <th>3</th>\n",
       "      <th>4</th>\n",
       "      <th>5</th>\n",
       "      <th>6</th>\n",
       "    </tr>\n",
       "  </thead>\n",
       "  <tbody>\n",
       "    <tr>\n",
       "      <th>0</th>\n",
       "      <td>1.606965</td>\n",
       "      <td>0.256419</td>\n",
       "      <td>1.298476</td>\n",
       "      <td>0.011016</td>\n",
       "      <td>0.569351</td>\n",
       "      <td>0.411453</td>\n",
       "      <td>0.251940</td>\n",
       "    </tr>\n",
       "    <tr>\n",
       "      <th>1</th>\n",
       "      <td>0.288529</td>\n",
       "      <td>0.437895</td>\n",
       "      <td>1.298476</td>\n",
       "      <td>0.416127</td>\n",
       "      <td>0.569351</td>\n",
       "      <td>0.411453</td>\n",
       "      <td>0.251940</td>\n",
       "    </tr>\n",
       "    <tr>\n",
       "      <th>2</th>\n",
       "      <td>0.747384</td>\n",
       "      <td>0.446762</td>\n",
       "      <td>1.298476</td>\n",
       "      <td>0.707361</td>\n",
       "      <td>0.569351</td>\n",
       "      <td>0.411453</td>\n",
       "      <td>0.251940</td>\n",
       "    </tr>\n",
       "    <tr>\n",
       "      <th>3</th>\n",
       "      <td>0.571051</td>\n",
       "      <td>0.047205</td>\n",
       "      <td>1.298476</td>\n",
       "      <td>0.645231</td>\n",
       "      <td>0.569351</td>\n",
       "      <td>0.411453</td>\n",
       "      <td>0.251940</td>\n",
       "    </tr>\n",
       "    <tr>\n",
       "      <th>4</th>\n",
       "      <td>0.747384</td>\n",
       "      <td>0.447091</td>\n",
       "      <td>1.298476</td>\n",
       "      <td>0.233620</td>\n",
       "      <td>0.569351</td>\n",
       "      <td>0.411453</td>\n",
       "      <td>0.251940</td>\n",
       "    </tr>\n",
       "    <tr>\n",
       "      <th>...</th>\n",
       "      <td>...</td>\n",
       "      <td>...</td>\n",
       "      <td>...</td>\n",
       "      <td>...</td>\n",
       "      <td>...</td>\n",
       "      <td>...</td>\n",
       "      <td>...</td>\n",
       "    </tr>\n",
       "    <tr>\n",
       "      <th>45206</th>\n",
       "      <td>0.947747</td>\n",
       "      <td>0.176460</td>\n",
       "      <td>0.143418</td>\n",
       "      <td>2.791329</td>\n",
       "      <td>0.076230</td>\n",
       "      <td>0.411453</td>\n",
       "      <td>0.251940</td>\n",
       "    </tr>\n",
       "    <tr>\n",
       "      <th>45207</th>\n",
       "      <td>2.831227</td>\n",
       "      <td>0.120447</td>\n",
       "      <td>0.143418</td>\n",
       "      <td>0.768224</td>\n",
       "      <td>0.246560</td>\n",
       "      <td>0.411453</td>\n",
       "      <td>0.251940</td>\n",
       "    </tr>\n",
       "    <tr>\n",
       "      <th>45208</th>\n",
       "      <td>2.925401</td>\n",
       "      <td>1.429593</td>\n",
       "      <td>0.143418</td>\n",
       "      <td>3.373797</td>\n",
       "      <td>0.721811</td>\n",
       "      <td>1.436189</td>\n",
       "      <td>1.050473</td>\n",
       "    </tr>\n",
       "    <tr>\n",
       "      <th>45209</th>\n",
       "      <td>1.512791</td>\n",
       "      <td>0.228024</td>\n",
       "      <td>0.143418</td>\n",
       "      <td>0.970146</td>\n",
       "      <td>0.399020</td>\n",
       "      <td>0.411453</td>\n",
       "      <td>0.251940</td>\n",
       "    </tr>\n",
       "    <tr>\n",
       "      <th>45210</th>\n",
       "      <td>0.370689</td>\n",
       "      <td>0.528364</td>\n",
       "      <td>0.143418</td>\n",
       "      <td>0.399328</td>\n",
       "      <td>0.246560</td>\n",
       "      <td>1.476138</td>\n",
       "      <td>4.523577</td>\n",
       "    </tr>\n",
       "  </tbody>\n",
       "</table>\n",
       "<p>45211 rows × 7 columns</p>\n",
       "</div>"
      ],
      "text/plain": [
       "              0         1         2         3         4         5         6\n",
       "0      1.606965  0.256419  1.298476  0.011016  0.569351  0.411453  0.251940\n",
       "1      0.288529  0.437895  1.298476  0.416127  0.569351  0.411453  0.251940\n",
       "2      0.747384  0.446762  1.298476  0.707361  0.569351  0.411453  0.251940\n",
       "3      0.571051  0.047205  1.298476  0.645231  0.569351  0.411453  0.251940\n",
       "4      0.747384  0.447091  1.298476  0.233620  0.569351  0.411453  0.251940\n",
       "...         ...       ...       ...       ...       ...       ...       ...\n",
       "45206  0.947747  0.176460  0.143418  2.791329  0.076230  0.411453  0.251940\n",
       "45207  2.831227  0.120447  0.143418  0.768224  0.246560  0.411453  0.251940\n",
       "45208  2.925401  1.429593  0.143418  3.373797  0.721811  1.436189  1.050473\n",
       "45209  1.512791  0.228024  0.143418  0.970146  0.399020  0.411453  0.251940\n",
       "45210  0.370689  0.528364  0.143418  0.399328  0.246560  1.476138  4.523577\n",
       "\n",
       "[45211 rows x 7 columns]"
      ]
     },
     "execution_count": 17,
     "metadata": {},
     "output_type": "execute_result"
    }
   ],
   "source": [
    "from sklearn.preprocessing import StandardScaler\n",
    "\n",
    "X = StandardScaler().fit_transform(X)\n",
    "pd.DataFrame(X).applymap(lambda x: abs(x))"
   ]
  },
  {
   "cell_type": "code",
   "execution_count": 18,
   "metadata": {},
   "outputs": [
    {
     "data": {
      "text/plain": [
       "0"
      ]
     },
     "execution_count": 18,
     "metadata": {},
     "output_type": "execute_result"
    },
    {
     "data": {
      "text/plain": [
       "0"
      ]
     },
     "execution_count": 18,
     "metadata": {},
     "output_type": "execute_result"
    },
    {
     "data": {
      "text/plain": [
       "(45211, 7)"
      ]
     },
     "execution_count": 18,
     "metadata": {},
     "output_type": "execute_result"
    },
    {
     "data": {
      "text/plain": [
       "(45211,)"
      ]
     },
     "execution_count": 18,
     "metadata": {},
     "output_type": "execute_result"
    },
    {
     "data": {
      "text/plain": [
       "pandas.core.series.Series"
      ]
     },
     "execution_count": 18,
     "metadata": {},
     "output_type": "execute_result"
    }
   ],
   "source": [
    "bank.isna().sum().sum()\n",
    "bank.duplicated().sum()\n",
    "X = bank.iloc[:, :-1].select_dtypes('number')\n",
    "# X = StandardScaler().fit_transform(X)\n",
    "y = bank.iloc[:, -1]\n",
    "X.shape\n",
    "y.shape\n",
    "type(y)"
   ]
  },
  {
   "cell_type": "code",
   "execution_count": 19,
   "metadata": {},
   "outputs": [
    {
     "data": {
      "text/plain": [
       "0.8830151954170445"
      ]
     },
     "execution_count": 19,
     "metadata": {},
     "output_type": "execute_result"
    }
   ],
   "source": [
    "\n",
    "bnb = BernoulliNB()\n",
    "bnb_pred = bnb.fit(X, y).predict(X)\n",
    "metrics.accuracy_score(y, bnb_pred)"
   ]
  },
  {
   "cell_type": "code",
   "execution_count": null,
   "metadata": {},
   "outputs": [],
   "source": []
  }
 ],
 "metadata": {
  "kernelspec": {
   "display_name": "Python 3",
   "language": "python",
   "name": "python3"
  },
  "language_info": {
   "name": ""
  }
 },
 "nbformat": 4,
 "nbformat_minor": 4
}
